{
 "cells": [
  {
   "cell_type": "markdown",
   "metadata": {},
   "source": [
    "# Exercise: Building Models With Scikit Learn\n",
    "\n",
    "This exercise is meant to help you practice:\n",
    "\n",
    "* Reading documentation and using unfamiliar libraries.\n",
    "* Writing and executing code in Jupyter Notebooks.\n",
    "* Working with the `sklearn` library.\n",
    "* Using creating test/train/validation splits and using them to evaluate models.\n",
    "\n",
    "# The Exercise\n",
    "\n",
    "In this exercise you'll build several different machine learning models using `sklearn` and evaluate their performance using the UCI Heart Disease dataset (provided in this repo).\n",
    "\n",
    "## Part One: Split your data\n",
    "\n",
    "Import your data and split it into just two buckets, training and validation data. The dataset is small and we won't actually be publishing any of this research, we jut want to explore different models and how they generalize to held out data so we don't need a full on \"test set\" for this exercise.\n",
    "\n",
    "Make sure to split the data into input and labels before performing the test/train split. \n",
    "\n",
    "**Bonus Challenges**: \n",
    "\n",
    "* Look into k-fold cross validation and use it to evaluate your model instead of a deterministic validation split [https://scikit-learn.org/stable/modules/generated/sklearn.model_selection.KFold.html](https://scikit-learn.org/stable/modules/generated/sklearn.model_selection.KFold.html)\n",
    "* Perform an exploratory data analysis on the UCI data:\n",
    "    * Is there any reason, based on your analysis, to remove some fields or perform any feature engineering?\n",
    "    * Are there any interesting features that stand out?\n",
    "    * Are there common outliers?\n",
    "    * Visualize the distributions of the features, is there anything interesting?\n",
    "    * Do any features clearly correlate more than others with malignancy?\n",
    "\n",
    "## Part Two: Explore KNN\n",
    "\n",
    "Build at least 6 different versions of the KNN model using different hyperparameters and evaluate their performance on the validation data. \n",
    "\n",
    "Before you evaluate their performance, form a hypothesis about which models you think will perform best and why. One you've evaluated the models, revisit your hypothesis: Was your intuition right? What surprised you? Can you explain your results?\n",
    "\n",
    "> Hint: Look at the documentation for Sklearn's KNNClassifier for a list of hyperparamters and their possible values [https://scikit-learn.org/stable/modules/generated/sklearn.neighbors.KNeighborsClassifier.html](https://scikit-learn.org/stable/modules/generated/sklearn.neighbors.KNeighborsClassifier.html).\n",
    "\n",
    "**Bonus Challenge:** Use \"Grid Search\" to find the best hyperparameter combination [https://scikit-learn.org/stable/modules/generated/sklearn.model_selection.GridSearchCV.html](https://scikit-learn.org/stable/modules/generated/sklearn.model_selection.GridSearchCV.html)"
   ]
  },
  {
   "cell_type": "code",
   "execution_count": null,
   "metadata": {},
   "outputs": [],
   "source": []
  }
 ],
 "metadata": {
  "kernelspec": {
   "display_name": "Python 3",
   "language": "python",
   "name": "python3"
  },
  "language_info": {
   "codemirror_mode": {
    "name": "ipython",
    "version": 3
   },
   "file_extension": ".py",
   "mimetype": "text/x-python",
   "name": "python",
   "nbconvert_exporter": "python",
   "pygments_lexer": "ipython3",
   "version": "3.8.5"
  }
 },
 "nbformat": 4,
 "nbformat_minor": 2
}
