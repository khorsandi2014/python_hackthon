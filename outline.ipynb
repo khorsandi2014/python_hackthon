{
 "cells": [
  {
   "cell_type": "markdown",
   "metadata": {
    "colab_type": "text",
    "id": "Tf7vFumymEsH"
   },
   "source": [
    "# While we are waiting\n",
    "\n",
    "* Ensure you're signed into Zoom using your real name so we can track attendance\n",
    "* Download the courseware from Github: https://github.com/khorsandi2014/python_hackthon\n",
    "* We use google colab in this course but feel free to use Anoconda, Pycharm or something else\n",
    "* If you want to use Anaconda, install the dependencies...\n",
    "    * With [pipenv](https://pipenv-fork.readthedocs.io/en/latest/install.html) simply run `pipenv install`\n",
    "    * Using pip, run `pip install pandas numpy scipy scikit-learn matplotlib`\n",
    "    * With conda, run `conda install pandas numpy scipy scikit-learn matplotlib`\n",
    "    * With Anaconda, you should already have the packages installed -- ensure you're using at least Python version 3.7, though!\n",
    "    * If you use something else to manage your Python libraries, feel free to use that!"
   ]
  },
  {
   "cell_type": "markdown",
   "metadata": {
    "colab_type": "text",
    "id": "14sA6qNPmEsJ"
   },
   "source": [
    "# Machine Learning in Python\n",
    "\n",
    "Ray Khorsandi<br/>\n",
    "ray.khorsandi@gmail.com\n",
    "\n",
    "Tyler Bettilyon<br/>\n",
    "teb@tebs-lab.com\n",
    "\n",
    "### Schedule\n",
    "\n",
    "**Class times**: 9:00 - 4:00\n",
    "\n",
    "**Lunch**: 12:00 - 1:00\n",
    "\n",
    "\n",
    "*Don't worry, there will be frequent breaks and work periods.*"
   ]
  },
  {
   "cell_type": "markdown",
   "metadata": {
    "colab_type": "text",
    "id": "Ma_S38b7mEsL"
   },
   "source": [
    "# Outline and Schedule\n",
    "\n",
    "\n",
    "## Day 1\n",
    "\n",
    "* Introductions\n",
    "* [Conceptual introduction to machine learning and model building][intro-ml] [Ray]\n",
    "* [Working With Data in Pandas][pandas-intro] [Tyler]\n",
    "* [Pandas and Scikit Learn][pandas-sklearn] [Tyler]\n",
    "* [Munging Data in Pandas][pandas-munging] [Tyler]\n",
    "* [Linear Models][linear-models] [Ray]\n",
    "* [Data and Validation][data-and-validation] [Tyler]\n",
    "* [K-Nearest Neighbors][knn] [Ray]\n",
    "* [Decision Trees & Random Forests][trees] [Ray]\n",
    "* [Intro to The Hackathon][hackathon-intro] [Tyler] ([additional info][hackathon-intro-addtl])\n",
    "    \n",
    "## Day 2 \n",
    "\n",
    "* 10:00am - 4:00pm: hacking on that data. \n",
    "* 4:00pm - 5:00pm: present your findings.\n",
    "\n",
    "[intro-ml]: lecture/01-intro-to-ml.ipynb\n",
    "[pandas-intro]: lecture/02-pandas-intro.ipynb\n",
    "[pandas-sklearn]: lecture/03-pandas-and-sklearn.ipynb\n",
    "[pandas-munging]: lecture/04-pandas-munging.ipynb\n",
    "[linear-models]: lecture/05-linear-regression.ipynb\n",
    "[data-and-validation]: lecture/06-data-and-validation.ipynb\n",
    "[knn]: lecture/07-k-nearest-neighbors.ipynb\n",
    "[trees]: lecture/08-trees-and-forests.ipynb\n",
    "[hackathon-intro]: lecture/09-required-intro-to-hackathon.ipynb\n",
    "[hackathon-intro-addtl]: lecture/10-optional-additional-intro-to-hackathon.ipynb\n"
   ]
  },
  {
   "cell_type": "code",
   "execution_count": null,
   "metadata": {
    "colab": {},
    "colab_type": "code",
    "id": "n6TjO-R1mEsN"
   },
   "outputs": [],
   "source": []
  },
  {
   "cell_type": "code",
   "execution_count": null,
   "metadata": {},
   "outputs": [],
   "source": []
  }
 ],
 "metadata": {
  "colab": {
   "name": "outline.ipynb",
   "provenance": []
  },
  "kernelspec": {
   "display_name": "Python 3",
   "language": "python",
   "name": "python3"
  },
  "language_info": {
   "codemirror_mode": {
    "name": "ipython",
    "version": 3
   },
   "file_extension": ".py",
   "mimetype": "text/x-python",
   "name": "python",
   "nbconvert_exporter": "python",
   "pygments_lexer": "ipython3",
   "version": "3.7.4"
  }
 },
 "nbformat": 4,
 "nbformat_minor": 1
}
