{
  "cells": [
    {
      "cell_type": "markdown",
      "metadata": {
        "id": "Tf7vFumymEsH"
      },
      "source": [
        "# While we are waiting\n",
        "\n",
        "* Ensure you're signed into Zoom using your real name so we can track attendance\n",
        "* Download the courseware from Github: https://github.com/khorsandi2014/python_hackthon\n",
        "\n",
        "    ML introduction:\n",
        "https://docs.google.com/presentation/d/1tOvxL2jdMB7Z8D4qKNgok9JbVqtFIA9M/edit?usp=sharing&ouid=108324036997324517583&rtpof=true&sd=true\n",
        "\n",
        "    DL introduction:\n",
        "https://docs.google.com/presentation/d/1A9xOGtsWH9pO20BSMFgX1jhinhUNd_Bl/edit?usp=sharing&ouid=108324036997324517583&rtpof=true&sd=true\n",
        "* We use google colab in this course but feel free to use Anoconda, Pycharm or something else\n",
        "* If you want to use Anaconda, install the dependencies...\n",
        "    * With [pipenv](https://pipenv-fork.readthedocs.io/en/latest/install.html) simply run `pipenv install`\n",
        "    * Using pip, run `pip install pandas numpy scipy scikit-learn matplotlib`\n",
        "    * With conda, run `conda install pandas numpy scipy scikit-learn matplotlib`\n",
        "    * With Anaconda, you should already have the packages installed -- ensure you're using at least Python version 3.7, though!\n",
        "    * If you use something else to manage your Python libraries, feel free to use that!"
      ]
    },
    {
      "cell_type": "markdown",
      "metadata": {
        "id": "14sA6qNPmEsJ"
      },
      "source": [
        "# Machine Learning in Python\n",
        "\n",
        "Ray Khorsandi<br/>\n",
        "AI/ML Specialist, AWS\n",
        "ray.khorsandi@gmail.com\n",
        "\n",
        "\n",
        "### Schedule\n",
        "\n",
        "**Class times**: 8:30-12:30\n",
        "\n",
        "\n",
        "*Don't worry, there will be frequent breaks and work periods.*"
      ]
    },
    {
      "cell_type": "markdown",
      "metadata": {
        "id": "Ma_S38b7mEsL"
      },
      "source": [
        "# Outline and Schedule\n",
        "\n",
        "\n",
        "## Day 1\n",
        "\n",
        "* Introductions\n",
        "* [Conceptual introduction to machine learning and model building][intro-ml]\n",
        "* [Working With Data in Pandas][pandas-intro]\n",
        "* [Pandas and Scikit Learn][pandas-sklearn]\n",
        "* [Munging Data in Pandas][pandas-munging]\n",
        "* [Linear Models][linear-models]\n",
        "* [Data and Validation][data-and-validation]\n",
        "* [K-Nearest Neighbors][knn]\n",
        "* [Decision Trees & Random Forests][trees]\n",
        "* [Intro to The Hackathon][hackathon-intro] ([additional info][hackathon-intro-addtl])\n",
        "    \n",
        "## Day 2\n",
        "\n",
        "* 8:30 am - 12:30pm: hacking on that data. \n",
        "\n",
        "## Day 3\n",
        "\n",
        "\n",
        "\n",
        "[intro-ml]: lecture/01-intro-to-ml.ipynb\n",
        "[pandas-intro]: lecture/02-pandas-intro.ipynb\n",
        "[pandas-sklearn]: lecture/03-pandas-and-sklearn.ipynb\n",
        "[pandas-munging]: lecture/04-pandas-munging.ipynb\n",
        "[linear-models]: lecture/05-linear-regression.ipynb\n",
        "[data-and-validation]: lecture/06-data-and-validation.ipynb\n",
        "[knn]: lecture/07-k-nearest-neighbors.ipynb\n",
        "[trees]: lecture/08-trees-and-forests.ipynb\n",
        "[hackathon-intro]: lecture/09-required-intro-to-hackathon.ipynb\n",
        "[hackathon-intro-addtl]: lecture/10-optional-additional-intro-to-hackathon.ipynb\n"
      ]
    },
    {
      "cell_type": "code",
      "execution_count": null,
      "metadata": {
        "id": "n6TjO-R1mEsN"
      },
      "outputs": [],
      "source": [
        ""
      ]
    },
    {
      "cell_type": "code",
      "execution_count": null,
      "metadata": {
        "id": "d39I4ZmHF7aK"
      },
      "outputs": [],
      "source": [
        ""
      ]
    }
  ],
  "metadata": {
    "colab": {
      "name": "outline.ipynb",
      "provenance": []
    },
    "kernelspec": {
      "display_name": "Python 3",
      "language": "python",
      "name": "python3"
    },
    "language_info": {
      "codemirror_mode": {
        "name": "ipython",
        "version": 3
      },
      "file_extension": ".py",
      "mimetype": "text/x-python",
      "name": "python",
      "nbconvert_exporter": "python",
      "pygments_lexer": "ipython3",
      "version": "3.7.4"
    }
  },
  "nbformat": 4,
  "nbformat_minor": 0
}