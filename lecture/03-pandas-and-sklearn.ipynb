{
 "cells": [
  {
   "cell_type": "markdown",
   "metadata": {},
   "source": [
    "# Pandas, Sklearn, and Feature Encoding\n",
    "\n",
    "When we want to build a model using Scikit-Learn, we need a *feature matrix* and one or more *target vectors*\n",
    "\n",
    "`DataFrame` and `Series` objects do a great job a feature matrices and target vectors.\n",
    "\n",
    "One restriction in many of the Scikit-Learn algorithms, however, is that all the features should be *numerical*, so we need to come up with a way to *encode* them so our algorithms can *exploit* them."
   ]
  },
  {
   "cell_type": "markdown",
   "metadata": {},
   "source": [
    "## Dealing with categories\n",
    "\n",
    "Often we'll get data with categorical data. To convert this to numbers, here are two options we might select:\n",
    "\n",
    "- Assign arbitrary integers to each category (\"label\" encoding\")\n",
    "- Create a new column for each category, with either a `1` or a `0` in it (\"one-hot\" encoding)\n",
    "\n",
    "Why might we choose one over the other?"
   ]
  },
  {
   "cell_type": "markdown",
   "metadata": {},
   "source": [
    "## One-hot encoding\n",
    "\n",
    "If we use one-hot encoding, we can either use the wonderfully-named `pd.get_dummies()` function to create our columns, or we an use a `OneHotEncoder` from Scikit-Learn.\n",
    "\n",
    "`get_dummies()` is straightforward to use. Let's consider some Sacramento real estate transactions:"
   ]
  },
  {
   "cell_type": "code",
   "execution_count": 1,
   "metadata": {},
   "outputs": [
    {
     "data": {
      "text/html": [
       "<div>\n",
       "<style scoped>\n",
       "    .dataframe tbody tr th:only-of-type {\n",
       "        vertical-align: middle;\n",
       "    }\n",
       "\n",
       "    .dataframe tbody tr th {\n",
       "        vertical-align: top;\n",
       "    }\n",
       "\n",
       "    .dataframe thead th {\n",
       "        text-align: right;\n",
       "    }\n",
       "</style>\n",
       "<table border=\"1\" class=\"dataframe\">\n",
       "  <thead>\n",
       "    <tr style=\"text-align: right;\">\n",
       "      <th></th>\n",
       "      <th>street</th>\n",
       "      <th>city</th>\n",
       "      <th>zip</th>\n",
       "      <th>state</th>\n",
       "      <th>beds</th>\n",
       "      <th>baths</th>\n",
       "      <th>sq__ft</th>\n",
       "      <th>type</th>\n",
       "      <th>sale_date</th>\n",
       "      <th>price</th>\n",
       "      <th>latitude</th>\n",
       "      <th>longitude</th>\n",
       "    </tr>\n",
       "  </thead>\n",
       "  <tbody>\n",
       "    <tr>\n",
       "      <th>0</th>\n",
       "      <td>3526 HIGH ST</td>\n",
       "      <td>SACRAMENTO</td>\n",
       "      <td>95838</td>\n",
       "      <td>CA</td>\n",
       "      <td>2</td>\n",
       "      <td>1</td>\n",
       "      <td>836</td>\n",
       "      <td>Residential</td>\n",
       "      <td>2008-05-21 00:00:00-04:00</td>\n",
       "      <td>59222</td>\n",
       "      <td>38.631913</td>\n",
       "      <td>-121.434879</td>\n",
       "    </tr>\n",
       "    <tr>\n",
       "      <th>1</th>\n",
       "      <td>51 OMAHA CT</td>\n",
       "      <td>SACRAMENTO</td>\n",
       "      <td>95823</td>\n",
       "      <td>CA</td>\n",
       "      <td>3</td>\n",
       "      <td>1</td>\n",
       "      <td>1167</td>\n",
       "      <td>Residential</td>\n",
       "      <td>2008-05-21 00:00:00-04:00</td>\n",
       "      <td>68212</td>\n",
       "      <td>38.478902</td>\n",
       "      <td>-121.431028</td>\n",
       "    </tr>\n",
       "    <tr>\n",
       "      <th>2</th>\n",
       "      <td>2796 BRANCH ST</td>\n",
       "      <td>SACRAMENTO</td>\n",
       "      <td>95815</td>\n",
       "      <td>CA</td>\n",
       "      <td>2</td>\n",
       "      <td>1</td>\n",
       "      <td>796</td>\n",
       "      <td>Residential</td>\n",
       "      <td>2008-05-21 00:00:00-04:00</td>\n",
       "      <td>68880</td>\n",
       "      <td>38.618305</td>\n",
       "      <td>-121.443839</td>\n",
       "    </tr>\n",
       "    <tr>\n",
       "      <th>3</th>\n",
       "      <td>2805 JANETTE WAY</td>\n",
       "      <td>SACRAMENTO</td>\n",
       "      <td>95815</td>\n",
       "      <td>CA</td>\n",
       "      <td>2</td>\n",
       "      <td>1</td>\n",
       "      <td>852</td>\n",
       "      <td>Residential</td>\n",
       "      <td>2008-05-21 00:00:00-04:00</td>\n",
       "      <td>69307</td>\n",
       "      <td>38.616835</td>\n",
       "      <td>-121.439146</td>\n",
       "    </tr>\n",
       "    <tr>\n",
       "      <th>4</th>\n",
       "      <td>6001 MCMAHON DR</td>\n",
       "      <td>SACRAMENTO</td>\n",
       "      <td>95824</td>\n",
       "      <td>CA</td>\n",
       "      <td>2</td>\n",
       "      <td>1</td>\n",
       "      <td>797</td>\n",
       "      <td>Residential</td>\n",
       "      <td>2008-05-21 00:00:00-04:00</td>\n",
       "      <td>81900</td>\n",
       "      <td>38.519470</td>\n",
       "      <td>-121.435768</td>\n",
       "    </tr>\n",
       "  </tbody>\n",
       "</table>\n",
       "</div>"
      ],
      "text/plain": [
       "             street        city    zip state  beds  baths  sq__ft  \\\n",
       "0      3526 HIGH ST  SACRAMENTO  95838    CA     2      1     836   \n",
       "1       51 OMAHA CT  SACRAMENTO  95823    CA     3      1    1167   \n",
       "2    2796 BRANCH ST  SACRAMENTO  95815    CA     2      1     796   \n",
       "3  2805 JANETTE WAY  SACRAMENTO  95815    CA     2      1     852   \n",
       "4   6001 MCMAHON DR  SACRAMENTO  95824    CA     2      1     797   \n",
       "\n",
       "          type                 sale_date  price   latitude   longitude  \n",
       "0  Residential 2008-05-21 00:00:00-04:00  59222  38.631913 -121.434879  \n",
       "1  Residential 2008-05-21 00:00:00-04:00  68212  38.478902 -121.431028  \n",
       "2  Residential 2008-05-21 00:00:00-04:00  68880  38.618305 -121.443839  \n",
       "3  Residential 2008-05-21 00:00:00-04:00  69307  38.616835 -121.439146  \n",
       "4  Residential 2008-05-21 00:00:00-04:00  81900  38.519470 -121.435768  "
      ]
     },
     "execution_count": 1,
     "metadata": {},
     "output_type": "execute_result"
    }
   ],
   "source": [
    "import pandas as pd\n",
    "\n",
    "dat = pd.read_csv('../data/Sacramentorealestatetransactions.csv', parse_dates=['sale_date'])\n",
    "dat.head()"
   ]
  },
  {
   "cell_type": "markdown",
   "metadata": {},
   "source": [
    "Maybe we think that the 'city' is going to be important as a feature. Let's start by looking at the different values it can take on:"
   ]
  },
  {
   "cell_type": "code",
   "execution_count": 2,
   "metadata": {},
   "outputs": [
    {
     "data": {
      "text/plain": [
       "SACRAMENTO         439\n",
       "ELK GROVE          114\n",
       "LINCOLN             72\n",
       "ROSEVILLE           48\n",
       "CITRUS HEIGHTS      35\n",
       "ANTELOPE            33\n",
       "RANCHO CORDOVA      28\n",
       "EL DORADO HILLS     23\n",
       "NORTH HIGHLANDS     21\n",
       "GALT                21\n",
       "CARMICHAEL          20\n",
       "ROCKLIN             17\n",
       "FOLSOM              17\n",
       "RIO LINDA           13\n",
       "ORANGEVALE          11\n",
       "PLACERVILLE         10\n",
       "CAMERON PARK         9\n",
       "FAIR OAKS            9\n",
       "AUBURN               5\n",
       "WILTON               5\n",
       "GOLD RIVER           4\n",
       "ELVERTA              4\n",
       "POLLOCK PINES        3\n",
       "GRANITE BAY          3\n",
       "RANCHO MURIETA       3\n",
       "WEST SACRAMENTO      3\n",
       "EL DORADO            2\n",
       "LOOMIS               2\n",
       "COOL                 1\n",
       "GREENWOOD            1\n",
       "FORESTHILL           1\n",
       "PENRYN               1\n",
       "WALNUT GROVE         1\n",
       "SHINGLE SPRINGS      1\n",
       "MEADOW VISTA         1\n",
       "SLOUGHHOUSE          1\n",
       "DIAMOND SPRINGS      1\n",
       "GARDEN VALLEY        1\n",
       "MATHER               1\n",
       "Name: city, dtype: int64"
      ]
     },
     "execution_count": 2,
     "metadata": {},
     "output_type": "execute_result"
    }
   ],
   "source": [
    "dat.city.value_counts()"
   ]
  },
  {
   "cell_type": "code",
   "execution_count": 3,
   "metadata": {},
   "outputs": [
    {
     "name": "stdout",
     "output_type": "stream",
     "text": [
      "<class 'pandas.core.frame.DataFrame'>\n",
      "RangeIndex: 985 entries, 0 to 984\n",
      "Data columns (total 12 columns):\n",
      " #   Column     Non-Null Count  Dtype                                 \n",
      "---  ------     --------------  -----                                 \n",
      " 0   street     985 non-null    object                                \n",
      " 1   city       985 non-null    object                                \n",
      " 2   zip        985 non-null    int64                                 \n",
      " 3   state      985 non-null    object                                \n",
      " 4   beds       985 non-null    int64                                 \n",
      " 5   baths      985 non-null    int64                                 \n",
      " 6   sq__ft     985 non-null    int64                                 \n",
      " 7   type       985 non-null    object                                \n",
      " 8   sale_date  985 non-null    datetime64[ns, pytz.FixedOffset(-240)]\n",
      " 9   price      985 non-null    int64                                 \n",
      " 10  latitude   985 non-null    float64                               \n",
      " 11  longitude  985 non-null    float64                               \n",
      "dtypes: datetime64[ns, pytz.FixedOffset(-240)](1), float64(2), int64(5), object(4)\n",
      "memory usage: 92.5+ KB\n"
     ]
    }
   ],
   "source": [
    "dat.info()"
   ]
  },
  {
   "cell_type": "markdown",
   "metadata": {},
   "source": [
    "We can use `pd.get_dummies()` to create a new `DataFrame`, using one-hot encoding for the columns we specify:"
   ]
  },
  {
   "cell_type": "code",
   "execution_count": 4,
   "metadata": {},
   "outputs": [
    {
     "data": {
      "text/html": [
       "<div>\n",
       "<style scoped>\n",
       "    .dataframe tbody tr th:only-of-type {\n",
       "        vertical-align: middle;\n",
       "    }\n",
       "\n",
       "    .dataframe tbody tr th {\n",
       "        vertical-align: top;\n",
       "    }\n",
       "\n",
       "    .dataframe thead th {\n",
       "        text-align: right;\n",
       "    }\n",
       "</style>\n",
       "<table border=\"1\" class=\"dataframe\">\n",
       "  <thead>\n",
       "    <tr style=\"text-align: right;\">\n",
       "      <th></th>\n",
       "      <th>street</th>\n",
       "      <th>zip</th>\n",
       "      <th>state</th>\n",
       "      <th>beds</th>\n",
       "      <th>baths</th>\n",
       "      <th>sq__ft</th>\n",
       "      <th>sale_date</th>\n",
       "      <th>price</th>\n",
       "      <th>latitude</th>\n",
       "      <th>longitude</th>\n",
       "      <th>...</th>\n",
       "      <th>city_SACRAMENTO</th>\n",
       "      <th>city_SHINGLE SPRINGS</th>\n",
       "      <th>city_SLOUGHHOUSE</th>\n",
       "      <th>city_WALNUT GROVE</th>\n",
       "      <th>city_WEST SACRAMENTO</th>\n",
       "      <th>city_WILTON</th>\n",
       "      <th>type_Condo</th>\n",
       "      <th>type_Multi-Family</th>\n",
       "      <th>type_Residential</th>\n",
       "      <th>type_Unkown</th>\n",
       "    </tr>\n",
       "  </thead>\n",
       "  <tbody>\n",
       "    <tr>\n",
       "      <th>0</th>\n",
       "      <td>3526 HIGH ST</td>\n",
       "      <td>95838</td>\n",
       "      <td>CA</td>\n",
       "      <td>2</td>\n",
       "      <td>1</td>\n",
       "      <td>836</td>\n",
       "      <td>2008-05-21 00:00:00-04:00</td>\n",
       "      <td>59222</td>\n",
       "      <td>38.631913</td>\n",
       "      <td>-121.434879</td>\n",
       "      <td>...</td>\n",
       "      <td>1</td>\n",
       "      <td>0</td>\n",
       "      <td>0</td>\n",
       "      <td>0</td>\n",
       "      <td>0</td>\n",
       "      <td>0</td>\n",
       "      <td>0</td>\n",
       "      <td>0</td>\n",
       "      <td>1</td>\n",
       "      <td>0</td>\n",
       "    </tr>\n",
       "    <tr>\n",
       "      <th>1</th>\n",
       "      <td>51 OMAHA CT</td>\n",
       "      <td>95823</td>\n",
       "      <td>CA</td>\n",
       "      <td>3</td>\n",
       "      <td>1</td>\n",
       "      <td>1167</td>\n",
       "      <td>2008-05-21 00:00:00-04:00</td>\n",
       "      <td>68212</td>\n",
       "      <td>38.478902</td>\n",
       "      <td>-121.431028</td>\n",
       "      <td>...</td>\n",
       "      <td>1</td>\n",
       "      <td>0</td>\n",
       "      <td>0</td>\n",
       "      <td>0</td>\n",
       "      <td>0</td>\n",
       "      <td>0</td>\n",
       "      <td>0</td>\n",
       "      <td>0</td>\n",
       "      <td>1</td>\n",
       "      <td>0</td>\n",
       "    </tr>\n",
       "    <tr>\n",
       "      <th>2</th>\n",
       "      <td>2796 BRANCH ST</td>\n",
       "      <td>95815</td>\n",
       "      <td>CA</td>\n",
       "      <td>2</td>\n",
       "      <td>1</td>\n",
       "      <td>796</td>\n",
       "      <td>2008-05-21 00:00:00-04:00</td>\n",
       "      <td>68880</td>\n",
       "      <td>38.618305</td>\n",
       "      <td>-121.443839</td>\n",
       "      <td>...</td>\n",
       "      <td>1</td>\n",
       "      <td>0</td>\n",
       "      <td>0</td>\n",
       "      <td>0</td>\n",
       "      <td>0</td>\n",
       "      <td>0</td>\n",
       "      <td>0</td>\n",
       "      <td>0</td>\n",
       "      <td>1</td>\n",
       "      <td>0</td>\n",
       "    </tr>\n",
       "    <tr>\n",
       "      <th>3</th>\n",
       "      <td>2805 JANETTE WAY</td>\n",
       "      <td>95815</td>\n",
       "      <td>CA</td>\n",
       "      <td>2</td>\n",
       "      <td>1</td>\n",
       "      <td>852</td>\n",
       "      <td>2008-05-21 00:00:00-04:00</td>\n",
       "      <td>69307</td>\n",
       "      <td>38.616835</td>\n",
       "      <td>-121.439146</td>\n",
       "      <td>...</td>\n",
       "      <td>1</td>\n",
       "      <td>0</td>\n",
       "      <td>0</td>\n",
       "      <td>0</td>\n",
       "      <td>0</td>\n",
       "      <td>0</td>\n",
       "      <td>0</td>\n",
       "      <td>0</td>\n",
       "      <td>1</td>\n",
       "      <td>0</td>\n",
       "    </tr>\n",
       "    <tr>\n",
       "      <th>4</th>\n",
       "      <td>6001 MCMAHON DR</td>\n",
       "      <td>95824</td>\n",
       "      <td>CA</td>\n",
       "      <td>2</td>\n",
       "      <td>1</td>\n",
       "      <td>797</td>\n",
       "      <td>2008-05-21 00:00:00-04:00</td>\n",
       "      <td>81900</td>\n",
       "      <td>38.519470</td>\n",
       "      <td>-121.435768</td>\n",
       "      <td>...</td>\n",
       "      <td>1</td>\n",
       "      <td>0</td>\n",
       "      <td>0</td>\n",
       "      <td>0</td>\n",
       "      <td>0</td>\n",
       "      <td>0</td>\n",
       "      <td>0</td>\n",
       "      <td>0</td>\n",
       "      <td>1</td>\n",
       "      <td>0</td>\n",
       "    </tr>\n",
       "  </tbody>\n",
       "</table>\n",
       "<p>5 rows × 53 columns</p>\n",
       "</div>"
      ],
      "text/plain": [
       "             street    zip state  beds  baths  sq__ft  \\\n",
       "0      3526 HIGH ST  95838    CA     2      1     836   \n",
       "1       51 OMAHA CT  95823    CA     3      1    1167   \n",
       "2    2796 BRANCH ST  95815    CA     2      1     796   \n",
       "3  2805 JANETTE WAY  95815    CA     2      1     852   \n",
       "4   6001 MCMAHON DR  95824    CA     2      1     797   \n",
       "\n",
       "                  sale_date  price   latitude   longitude  ...  \\\n",
       "0 2008-05-21 00:00:00-04:00  59222  38.631913 -121.434879  ...   \n",
       "1 2008-05-21 00:00:00-04:00  68212  38.478902 -121.431028  ...   \n",
       "2 2008-05-21 00:00:00-04:00  68880  38.618305 -121.443839  ...   \n",
       "3 2008-05-21 00:00:00-04:00  69307  38.616835 -121.439146  ...   \n",
       "4 2008-05-21 00:00:00-04:00  81900  38.519470 -121.435768  ...   \n",
       "\n",
       "   city_SACRAMENTO  city_SHINGLE SPRINGS  city_SLOUGHHOUSE  city_WALNUT GROVE  \\\n",
       "0                1                     0                 0                  0   \n",
       "1                1                     0                 0                  0   \n",
       "2                1                     0                 0                  0   \n",
       "3                1                     0                 0                  0   \n",
       "4                1                     0                 0                  0   \n",
       "\n",
       "   city_WEST SACRAMENTO  city_WILTON  type_Condo  type_Multi-Family  \\\n",
       "0                     0            0           0                  0   \n",
       "1                     0            0           0                  0   \n",
       "2                     0            0           0                  0   \n",
       "3                     0            0           0                  0   \n",
       "4                     0            0           0                  0   \n",
       "\n",
       "   type_Residential  type_Unkown  \n",
       "0                 1            0  \n",
       "1                 1            0  \n",
       "2                 1            0  \n",
       "3                 1            0  \n",
       "4                 1            0  \n",
       "\n",
       "[5 rows x 53 columns]"
      ]
     },
     "execution_count": 4,
     "metadata": {},
     "output_type": "execute_result"
    }
   ],
   "source": [
    "dat_onehot = pd.get_dummies(dat, columns=['city', 'type'])\n",
    "dat_onehot.head()"
   ]
  },
  {
   "cell_type": "markdown",
   "metadata": {},
   "source": [
    "## One-hot all the things! (?)\n",
    "\n",
    "One downside to using one-hot encoding is the number of columns generated. Too many columns can cause problems for some of the Scikit-Learn algorithms because they lead to very sparse data (not many rows per feature). We'll see how to deal with that shortly. \n",
    "\n",
    "In this case, we added 41 new columns:"
   ]
  },
  {
   "cell_type": "code",
   "execution_count": 5,
   "metadata": {},
   "outputs": [
    {
     "data": {
      "text/plain": [
       "(985, 12)"
      ]
     },
     "execution_count": 5,
     "metadata": {},
     "output_type": "execute_result"
    }
   ],
   "source": [
    "dat.shape"
   ]
  },
  {
   "cell_type": "code",
   "execution_count": 6,
   "metadata": {},
   "outputs": [
    {
     "data": {
      "text/plain": [
       "(985, 53)"
      ]
     },
     "execution_count": 6,
     "metadata": {},
     "output_type": "execute_result"
    }
   ],
   "source": [
    "dat_onehot.shape"
   ]
  },
  {
   "cell_type": "markdown",
   "metadata": {},
   "source": [
    "## `OneHotEncoder`\n",
    "\n",
    "While `get_dummies` works well, it doesn't fit in 100% with the fit/predict model of the rest of sklearn. If we want to 'train' an encoder with the one hot encoding and then use the *same* encodings for evaluation and prediction, it's best to use a `OneHotEncoder` from sklearn.\n",
    "\n",
    "A nice side-effect is that we get a *sparse matrix*, which stores the required data more efficiently:"
   ]
  },
  {
   "cell_type": "code",
   "execution_count": 7,
   "metadata": {},
   "outputs": [],
   "source": [
    "from sklearn import preprocessing\n",
    "enc = preprocessing.OneHotEncoder()"
   ]
  },
  {
   "cell_type": "code",
   "execution_count": 8,
   "metadata": {},
   "outputs": [
    {
     "data": {
      "text/plain": [
       "OneHotEncoder()"
      ]
     },
     "execution_count": 8,
     "metadata": {},
     "output_type": "execute_result"
    }
   ],
   "source": [
    "enc.fit(dat['city type'.split()])"
   ]
  },
  {
   "cell_type": "code",
   "execution_count": 9,
   "metadata": {},
   "outputs": [
    {
     "data": {
      "text/plain": [
       "<985x43 sparse matrix of type '<class 'numpy.float64'>'\n",
       "\twith 1970 stored elements in Compressed Sparse Row format>"
      ]
     },
     "execution_count": 9,
     "metadata": {},
     "output_type": "execute_result"
    }
   ],
   "source": [
    "enc.transform(dat['city type'.split()])"
   ]
  },
  {
   "cell_type": "code",
   "execution_count": 10,
   "metadata": {},
   "outputs": [
    {
     "data": {
      "text/plain": [
       "42355"
      ]
     },
     "execution_count": 10,
     "metadata": {},
     "output_type": "execute_result"
    }
   ],
   "source": [
    "985*43"
   ]
  },
  {
   "cell_type": "markdown",
   "metadata": {},
   "source": [
    "# Encoding categorical *targets*\n",
    "\n",
    "If we're building a classifier, we often want to take categorical data and encode it as integers. Here, we don't need to worry about one-hot encoding (we're not inferring anything based on the *order* of the targets), so we can just use the `sklearn.preprocessing.LabelEncoder`:"
   ]
  },
  {
   "cell_type": "code",
   "execution_count": 11,
   "metadata": {},
   "outputs": [
    {
     "data": {
      "text/html": [
       "<div>\n",
       "<style scoped>\n",
       "    .dataframe tbody tr th:only-of-type {\n",
       "        vertical-align: middle;\n",
       "    }\n",
       "\n",
       "    .dataframe tbody tr th {\n",
       "        vertical-align: top;\n",
       "    }\n",
       "\n",
       "    .dataframe thead th {\n",
       "        text-align: right;\n",
       "    }\n",
       "</style>\n",
       "<table border=\"1\" class=\"dataframe\">\n",
       "  <thead>\n",
       "    <tr style=\"text-align: right;\">\n",
       "      <th></th>\n",
       "      <th>Dates</th>\n",
       "      <th>Category</th>\n",
       "      <th>Descript</th>\n",
       "      <th>DayOfWeek</th>\n",
       "      <th>PdDistrict</th>\n",
       "      <th>Resolution</th>\n",
       "      <th>Address</th>\n",
       "      <th>X</th>\n",
       "      <th>Y</th>\n",
       "    </tr>\n",
       "  </thead>\n",
       "  <tbody>\n",
       "    <tr>\n",
       "      <th>0</th>\n",
       "      <td>2011-12-04 18:15:00</td>\n",
       "      <td>SUSPICIOUS OCC</td>\n",
       "      <td>SUSPICIOUS OCCURRENCE</td>\n",
       "      <td>Sunday</td>\n",
       "      <td>PARK</td>\n",
       "      <td>NONE</td>\n",
       "      <td>100 Block of BEULAH ST</td>\n",
       "      <td>-122.452331</td>\n",
       "      <td>37.767356</td>\n",
       "    </tr>\n",
       "    <tr>\n",
       "      <th>1</th>\n",
       "      <td>2009-01-11 19:57:00</td>\n",
       "      <td>WARRANTS</td>\n",
       "      <td>ENROUTE TO OUTSIDE JURISDICTION</td>\n",
       "      <td>Sunday</td>\n",
       "      <td>MISSION</td>\n",
       "      <td>ARREST, BOOKED</td>\n",
       "      <td>18TH ST / CAPP ST</td>\n",
       "      <td>-122.418272</td>\n",
       "      <td>37.761903</td>\n",
       "    </tr>\n",
       "    <tr>\n",
       "      <th>2</th>\n",
       "      <td>2007-01-25 18:15:00</td>\n",
       "      <td>NON-CRIMINAL</td>\n",
       "      <td>AIDED CASE, MENTAL DISTURBED</td>\n",
       "      <td>Thursday</td>\n",
       "      <td>CENTRAL</td>\n",
       "      <td>NONE</td>\n",
       "      <td>1200 Block of STOCKTON ST</td>\n",
       "      <td>-122.408521</td>\n",
       "      <td>37.797492</td>\n",
       "    </tr>\n",
       "    <tr>\n",
       "      <th>3</th>\n",
       "      <td>2012-01-10 08:55:00</td>\n",
       "      <td>ROBBERY</td>\n",
       "      <td>ROBBERY, BODILY FORCE</td>\n",
       "      <td>Tuesday</td>\n",
       "      <td>NORTHERN</td>\n",
       "      <td>NONE</td>\n",
       "      <td>HAYES ST / FRANKLIN ST</td>\n",
       "      <td>-122.421333</td>\n",
       "      <td>37.777090</td>\n",
       "    </tr>\n",
       "    <tr>\n",
       "      <th>4</th>\n",
       "      <td>2014-05-27 12:25:00</td>\n",
       "      <td>VANDALISM</td>\n",
       "      <td>MALICIOUS MISCHIEF, VANDALISM OF VEHICLES</td>\n",
       "      <td>Tuesday</td>\n",
       "      <td>TENDERLOIN</td>\n",
       "      <td>NONE</td>\n",
       "      <td>JONES ST / TURK ST</td>\n",
       "      <td>-122.412414</td>\n",
       "      <td>37.783004</td>\n",
       "    </tr>\n",
       "  </tbody>\n",
       "</table>\n",
       "</div>"
      ],
      "text/plain": [
       "                 Dates        Category  \\\n",
       "0  2011-12-04 18:15:00  SUSPICIOUS OCC   \n",
       "1  2009-01-11 19:57:00        WARRANTS   \n",
       "2  2007-01-25 18:15:00    NON-CRIMINAL   \n",
       "3  2012-01-10 08:55:00         ROBBERY   \n",
       "4  2014-05-27 12:25:00       VANDALISM   \n",
       "\n",
       "                                    Descript DayOfWeek  PdDistrict  \\\n",
       "0                      SUSPICIOUS OCCURRENCE    Sunday        PARK   \n",
       "1            ENROUTE TO OUTSIDE JURISDICTION    Sunday     MISSION   \n",
       "2               AIDED CASE, MENTAL DISTURBED  Thursday     CENTRAL   \n",
       "3                      ROBBERY, BODILY FORCE   Tuesday    NORTHERN   \n",
       "4  MALICIOUS MISCHIEF, VANDALISM OF VEHICLES   Tuesday  TENDERLOIN   \n",
       "\n",
       "       Resolution                    Address           X          Y  \n",
       "0            NONE     100 Block of BEULAH ST -122.452331  37.767356  \n",
       "1  ARREST, BOOKED          18TH ST / CAPP ST -122.418272  37.761903  \n",
       "2            NONE  1200 Block of STOCKTON ST -122.408521  37.797492  \n",
       "3            NONE     HAYES ST / FRANKLIN ST -122.421333  37.777090  \n",
       "4            NONE         JONES ST / TURK ST -122.412414  37.783004  "
      ]
     },
     "execution_count": 11,
     "metadata": {},
     "output_type": "execute_result"
    }
   ],
   "source": [
    "crime = pd.read_csv('../data/sfcrime-hackathon/hackathon_train.csv')\n",
    "crime.head()"
   ]
  },
  {
   "cell_type": "code",
   "execution_count": 12,
   "metadata": {},
   "outputs": [
    {
     "data": {
      "text/plain": [
       "LabelEncoder()"
      ]
     },
     "execution_count": 12,
     "metadata": {},
     "output_type": "execute_result"
    }
   ],
   "source": [
    "enc = preprocessing.LabelEncoder()\n",
    "enc.fit(crime['Category'])"
   ]
  },
  {
   "cell_type": "code",
   "execution_count": 13,
   "metadata": {},
   "outputs": [
    {
     "data": {
      "text/plain": [
       "array([32, 37, 20, ..., 16, 37, 20])"
      ]
     },
     "execution_count": 13,
     "metadata": {},
     "output_type": "execute_result"
    }
   ],
   "source": [
    "enc.transform(crime['Category'])"
   ]
  },
  {
   "cell_type": "markdown",
   "metadata": {},
   "source": [
    "# Scaling inputs with the StandardScaler\n",
    "\n",
    "Many algorithms work better if the features have zero mean and standard deviation 1. We can scale them so that this is true by using the `sklearn.preprocessing.StandardScaler`:"
   ]
  },
  {
   "cell_type": "code",
   "execution_count": 14,
   "metadata": {},
   "outputs": [
    {
     "data": {
      "text/html": [
       "<div>\n",
       "<style scoped>\n",
       "    .dataframe tbody tr th:only-of-type {\n",
       "        vertical-align: middle;\n",
       "    }\n",
       "\n",
       "    .dataframe tbody tr th {\n",
       "        vertical-align: top;\n",
       "    }\n",
       "\n",
       "    .dataframe thead th {\n",
       "        text-align: right;\n",
       "    }\n",
       "</style>\n",
       "<table border=\"1\" class=\"dataframe\">\n",
       "  <thead>\n",
       "    <tr style=\"text-align: right;\">\n",
       "      <th></th>\n",
       "      <th>street</th>\n",
       "      <th>city</th>\n",
       "      <th>zip</th>\n",
       "      <th>state</th>\n",
       "      <th>beds</th>\n",
       "      <th>baths</th>\n",
       "      <th>sq__ft</th>\n",
       "      <th>type</th>\n",
       "      <th>sale_date</th>\n",
       "      <th>price</th>\n",
       "      <th>latitude</th>\n",
       "      <th>longitude</th>\n",
       "    </tr>\n",
       "  </thead>\n",
       "  <tbody>\n",
       "    <tr>\n",
       "      <th>0</th>\n",
       "      <td>3526 HIGH ST</td>\n",
       "      <td>SACRAMENTO</td>\n",
       "      <td>95838</td>\n",
       "      <td>CA</td>\n",
       "      <td>2</td>\n",
       "      <td>1</td>\n",
       "      <td>836</td>\n",
       "      <td>Residential</td>\n",
       "      <td>2008-05-21 00:00:00-04:00</td>\n",
       "      <td>59222</td>\n",
       "      <td>38.631913</td>\n",
       "      <td>-121.434879</td>\n",
       "    </tr>\n",
       "    <tr>\n",
       "      <th>1</th>\n",
       "      <td>51 OMAHA CT</td>\n",
       "      <td>SACRAMENTO</td>\n",
       "      <td>95823</td>\n",
       "      <td>CA</td>\n",
       "      <td>3</td>\n",
       "      <td>1</td>\n",
       "      <td>1167</td>\n",
       "      <td>Residential</td>\n",
       "      <td>2008-05-21 00:00:00-04:00</td>\n",
       "      <td>68212</td>\n",
       "      <td>38.478902</td>\n",
       "      <td>-121.431028</td>\n",
       "    </tr>\n",
       "    <tr>\n",
       "      <th>2</th>\n",
       "      <td>2796 BRANCH ST</td>\n",
       "      <td>SACRAMENTO</td>\n",
       "      <td>95815</td>\n",
       "      <td>CA</td>\n",
       "      <td>2</td>\n",
       "      <td>1</td>\n",
       "      <td>796</td>\n",
       "      <td>Residential</td>\n",
       "      <td>2008-05-21 00:00:00-04:00</td>\n",
       "      <td>68880</td>\n",
       "      <td>38.618305</td>\n",
       "      <td>-121.443839</td>\n",
       "    </tr>\n",
       "    <tr>\n",
       "      <th>3</th>\n",
       "      <td>2805 JANETTE WAY</td>\n",
       "      <td>SACRAMENTO</td>\n",
       "      <td>95815</td>\n",
       "      <td>CA</td>\n",
       "      <td>2</td>\n",
       "      <td>1</td>\n",
       "      <td>852</td>\n",
       "      <td>Residential</td>\n",
       "      <td>2008-05-21 00:00:00-04:00</td>\n",
       "      <td>69307</td>\n",
       "      <td>38.616835</td>\n",
       "      <td>-121.439146</td>\n",
       "    </tr>\n",
       "    <tr>\n",
       "      <th>4</th>\n",
       "      <td>6001 MCMAHON DR</td>\n",
       "      <td>SACRAMENTO</td>\n",
       "      <td>95824</td>\n",
       "      <td>CA</td>\n",
       "      <td>2</td>\n",
       "      <td>1</td>\n",
       "      <td>797</td>\n",
       "      <td>Residential</td>\n",
       "      <td>2008-05-21 00:00:00-04:00</td>\n",
       "      <td>81900</td>\n",
       "      <td>38.519470</td>\n",
       "      <td>-121.435768</td>\n",
       "    </tr>\n",
       "  </tbody>\n",
       "</table>\n",
       "</div>"
      ],
      "text/plain": [
       "             street        city    zip state  beds  baths  sq__ft  \\\n",
       "0      3526 HIGH ST  SACRAMENTO  95838    CA     2      1     836   \n",
       "1       51 OMAHA CT  SACRAMENTO  95823    CA     3      1    1167   \n",
       "2    2796 BRANCH ST  SACRAMENTO  95815    CA     2      1     796   \n",
       "3  2805 JANETTE WAY  SACRAMENTO  95815    CA     2      1     852   \n",
       "4   6001 MCMAHON DR  SACRAMENTO  95824    CA     2      1     797   \n",
       "\n",
       "          type                 sale_date  price   latitude   longitude  \n",
       "0  Residential 2008-05-21 00:00:00-04:00  59222  38.631913 -121.434879  \n",
       "1  Residential 2008-05-21 00:00:00-04:00  68212  38.478902 -121.431028  \n",
       "2  Residential 2008-05-21 00:00:00-04:00  68880  38.618305 -121.443839  \n",
       "3  Residential 2008-05-21 00:00:00-04:00  69307  38.616835 -121.439146  \n",
       "4  Residential 2008-05-21 00:00:00-04:00  81900  38.519470 -121.435768  "
      ]
     },
     "execution_count": 14,
     "metadata": {},
     "output_type": "execute_result"
    }
   ],
   "source": [
    "dat.head()"
   ]
  },
  {
   "cell_type": "markdown",
   "metadata": {},
   "source": [
    "Drop the features we don't care about"
   ]
  },
  {
   "cell_type": "code",
   "execution_count": 15,
   "metadata": {},
   "outputs": [],
   "source": [
    "X = dat['beds baths sq__ft latitude longitude'.split()]\n",
    "y = dat['price']"
   ]
  },
  {
   "cell_type": "code",
   "execution_count": 16,
   "metadata": {},
   "outputs": [],
   "source": [
    "enc = preprocessing.StandardScaler()\n",
    "Xtrans = enc.fit_transform(X)"
   ]
  },
  {
   "cell_type": "code",
   "execution_count": 17,
   "metadata": {},
   "outputs": [
    {
     "data": {
      "text/plain": [
       "array([[-0.69738954, -0.86784575, -0.56170333,  0.16635301, -0.57085654],\n",
       "       [ 0.06756447, -0.86784575, -0.17348596, -0.8862888 , -0.54299268],\n",
       "       [-0.69738954, -0.86784575, -0.60861782,  0.07273654, -0.63568651],\n",
       "       ...,\n",
       "       [ 0.06756447,  0.24957656, -0.11601571,  0.69546356,  0.71761011],\n",
       "       [ 0.83251847,  0.24957656,  0.43405664, -1.31214468, -0.29985136],\n",
       "       [ 0.06756447,  0.24957656,  0.05522216,  0.32686591,  2.02642295]])"
      ]
     },
     "execution_count": 17,
     "metadata": {},
     "output_type": "execute_result"
    }
   ],
   "source": [
    "Xtrans"
   ]
  },
  {
   "cell_type": "markdown",
   "metadata": {},
   "source": [
    "# PCA for dimensionality reduction\n",
    "\n",
    "Too many features can decrease the quality of our model. PCA is a transformation that reduces the # of dimensions while keeping as much *variance* in our features as possible. Sometimes it can be useful in transforming one-hot encoded data:"
   ]
  },
  {
   "cell_type": "code",
   "execution_count": 18,
   "metadata": {},
   "outputs": [
    {
     "data": {
      "text/html": [
       "<div>\n",
       "<style scoped>\n",
       "    .dataframe tbody tr th:only-of-type {\n",
       "        vertical-align: middle;\n",
       "    }\n",
       "\n",
       "    .dataframe tbody tr th {\n",
       "        vertical-align: top;\n",
       "    }\n",
       "\n",
       "    .dataframe thead th {\n",
       "        text-align: right;\n",
       "    }\n",
       "</style>\n",
       "<table border=\"1\" class=\"dataframe\">\n",
       "  <thead>\n",
       "    <tr style=\"text-align: right;\">\n",
       "      <th></th>\n",
       "      <th>street</th>\n",
       "      <th>zip</th>\n",
       "      <th>state</th>\n",
       "      <th>beds</th>\n",
       "      <th>baths</th>\n",
       "      <th>sq__ft</th>\n",
       "      <th>sale_date</th>\n",
       "      <th>price</th>\n",
       "      <th>latitude</th>\n",
       "      <th>longitude</th>\n",
       "      <th>...</th>\n",
       "      <th>city_SACRAMENTO</th>\n",
       "      <th>city_SHINGLE SPRINGS</th>\n",
       "      <th>city_SLOUGHHOUSE</th>\n",
       "      <th>city_WALNUT GROVE</th>\n",
       "      <th>city_WEST SACRAMENTO</th>\n",
       "      <th>city_WILTON</th>\n",
       "      <th>type_Condo</th>\n",
       "      <th>type_Multi-Family</th>\n",
       "      <th>type_Residential</th>\n",
       "      <th>type_Unkown</th>\n",
       "    </tr>\n",
       "  </thead>\n",
       "  <tbody>\n",
       "    <tr>\n",
       "      <th>0</th>\n",
       "      <td>3526 HIGH ST</td>\n",
       "      <td>95838</td>\n",
       "      <td>CA</td>\n",
       "      <td>2</td>\n",
       "      <td>1</td>\n",
       "      <td>836</td>\n",
       "      <td>2008-05-21 00:00:00-04:00</td>\n",
       "      <td>59222</td>\n",
       "      <td>38.631913</td>\n",
       "      <td>-121.434879</td>\n",
       "      <td>...</td>\n",
       "      <td>1</td>\n",
       "      <td>0</td>\n",
       "      <td>0</td>\n",
       "      <td>0</td>\n",
       "      <td>0</td>\n",
       "      <td>0</td>\n",
       "      <td>0</td>\n",
       "      <td>0</td>\n",
       "      <td>1</td>\n",
       "      <td>0</td>\n",
       "    </tr>\n",
       "    <tr>\n",
       "      <th>1</th>\n",
       "      <td>51 OMAHA CT</td>\n",
       "      <td>95823</td>\n",
       "      <td>CA</td>\n",
       "      <td>3</td>\n",
       "      <td>1</td>\n",
       "      <td>1167</td>\n",
       "      <td>2008-05-21 00:00:00-04:00</td>\n",
       "      <td>68212</td>\n",
       "      <td>38.478902</td>\n",
       "      <td>-121.431028</td>\n",
       "      <td>...</td>\n",
       "      <td>1</td>\n",
       "      <td>0</td>\n",
       "      <td>0</td>\n",
       "      <td>0</td>\n",
       "      <td>0</td>\n",
       "      <td>0</td>\n",
       "      <td>0</td>\n",
       "      <td>0</td>\n",
       "      <td>1</td>\n",
       "      <td>0</td>\n",
       "    </tr>\n",
       "    <tr>\n",
       "      <th>2</th>\n",
       "      <td>2796 BRANCH ST</td>\n",
       "      <td>95815</td>\n",
       "      <td>CA</td>\n",
       "      <td>2</td>\n",
       "      <td>1</td>\n",
       "      <td>796</td>\n",
       "      <td>2008-05-21 00:00:00-04:00</td>\n",
       "      <td>68880</td>\n",
       "      <td>38.618305</td>\n",
       "      <td>-121.443839</td>\n",
       "      <td>...</td>\n",
       "      <td>1</td>\n",
       "      <td>0</td>\n",
       "      <td>0</td>\n",
       "      <td>0</td>\n",
       "      <td>0</td>\n",
       "      <td>0</td>\n",
       "      <td>0</td>\n",
       "      <td>0</td>\n",
       "      <td>1</td>\n",
       "      <td>0</td>\n",
       "    </tr>\n",
       "    <tr>\n",
       "      <th>3</th>\n",
       "      <td>2805 JANETTE WAY</td>\n",
       "      <td>95815</td>\n",
       "      <td>CA</td>\n",
       "      <td>2</td>\n",
       "      <td>1</td>\n",
       "      <td>852</td>\n",
       "      <td>2008-05-21 00:00:00-04:00</td>\n",
       "      <td>69307</td>\n",
       "      <td>38.616835</td>\n",
       "      <td>-121.439146</td>\n",
       "      <td>...</td>\n",
       "      <td>1</td>\n",
       "      <td>0</td>\n",
       "      <td>0</td>\n",
       "      <td>0</td>\n",
       "      <td>0</td>\n",
       "      <td>0</td>\n",
       "      <td>0</td>\n",
       "      <td>0</td>\n",
       "      <td>1</td>\n",
       "      <td>0</td>\n",
       "    </tr>\n",
       "    <tr>\n",
       "      <th>4</th>\n",
       "      <td>6001 MCMAHON DR</td>\n",
       "      <td>95824</td>\n",
       "      <td>CA</td>\n",
       "      <td>2</td>\n",
       "      <td>1</td>\n",
       "      <td>797</td>\n",
       "      <td>2008-05-21 00:00:00-04:00</td>\n",
       "      <td>81900</td>\n",
       "      <td>38.519470</td>\n",
       "      <td>-121.435768</td>\n",
       "      <td>...</td>\n",
       "      <td>1</td>\n",
       "      <td>0</td>\n",
       "      <td>0</td>\n",
       "      <td>0</td>\n",
       "      <td>0</td>\n",
       "      <td>0</td>\n",
       "      <td>0</td>\n",
       "      <td>0</td>\n",
       "      <td>1</td>\n",
       "      <td>0</td>\n",
       "    </tr>\n",
       "  </tbody>\n",
       "</table>\n",
       "<p>5 rows × 53 columns</p>\n",
       "</div>"
      ],
      "text/plain": [
       "             street    zip state  beds  baths  sq__ft  \\\n",
       "0      3526 HIGH ST  95838    CA     2      1     836   \n",
       "1       51 OMAHA CT  95823    CA     3      1    1167   \n",
       "2    2796 BRANCH ST  95815    CA     2      1     796   \n",
       "3  2805 JANETTE WAY  95815    CA     2      1     852   \n",
       "4   6001 MCMAHON DR  95824    CA     2      1     797   \n",
       "\n",
       "                  sale_date  price   latitude   longitude  ...  \\\n",
       "0 2008-05-21 00:00:00-04:00  59222  38.631913 -121.434879  ...   \n",
       "1 2008-05-21 00:00:00-04:00  68212  38.478902 -121.431028  ...   \n",
       "2 2008-05-21 00:00:00-04:00  68880  38.618305 -121.443839  ...   \n",
       "3 2008-05-21 00:00:00-04:00  69307  38.616835 -121.439146  ...   \n",
       "4 2008-05-21 00:00:00-04:00  81900  38.519470 -121.435768  ...   \n",
       "\n",
       "   city_SACRAMENTO  city_SHINGLE SPRINGS  city_SLOUGHHOUSE  city_WALNUT GROVE  \\\n",
       "0                1                     0                 0                  0   \n",
       "1                1                     0                 0                  0   \n",
       "2                1                     0                 0                  0   \n",
       "3                1                     0                 0                  0   \n",
       "4                1                     0                 0                  0   \n",
       "\n",
       "   city_WEST SACRAMENTO  city_WILTON  type_Condo  type_Multi-Family  \\\n",
       "0                     0            0           0                  0   \n",
       "1                     0            0           0                  0   \n",
       "2                     0            0           0                  0   \n",
       "3                     0            0           0                  0   \n",
       "4                     0            0           0                  0   \n",
       "\n",
       "   type_Residential  type_Unkown  \n",
       "0                 1            0  \n",
       "1                 1            0  \n",
       "2                 1            0  \n",
       "3                 1            0  \n",
       "4                 1            0  \n",
       "\n",
       "[5 rows x 53 columns]"
      ]
     },
     "execution_count": 18,
     "metadata": {},
     "output_type": "execute_result"
    }
   ],
   "source": [
    "dat_onehot.head()"
   ]
  },
  {
   "cell_type": "code",
   "execution_count": 19,
   "metadata": {},
   "outputs": [
    {
     "data": {
      "text/plain": [
       "Index(['street', 'zip', 'state', 'beds', 'baths', 'sq__ft', 'sale_date',\n",
       "       'price', 'latitude', 'longitude', 'city_ANTELOPE', 'city_AUBURN',\n",
       "       'city_CAMERON PARK', 'city_CARMICHAEL', 'city_CITRUS HEIGHTS',\n",
       "       'city_COOL', 'city_DIAMOND SPRINGS', 'city_EL DORADO',\n",
       "       'city_EL DORADO HILLS', 'city_ELK GROVE', 'city_ELVERTA',\n",
       "       'city_FAIR OAKS', 'city_FOLSOM', 'city_FORESTHILL', 'city_GALT',\n",
       "       'city_GARDEN VALLEY', 'city_GOLD RIVER', 'city_GRANITE BAY',\n",
       "       'city_GREENWOOD', 'city_LINCOLN', 'city_LOOMIS', 'city_MATHER',\n",
       "       'city_MEADOW VISTA', 'city_NORTH HIGHLANDS', 'city_ORANGEVALE',\n",
       "       'city_PENRYN', 'city_PLACERVILLE', 'city_POLLOCK PINES',\n",
       "       'city_RANCHO CORDOVA', 'city_RANCHO MURIETA', 'city_RIO LINDA',\n",
       "       'city_ROCKLIN', 'city_ROSEVILLE', 'city_SACRAMENTO',\n",
       "       'city_SHINGLE SPRINGS', 'city_SLOUGHHOUSE', 'city_WALNUT GROVE',\n",
       "       'city_WEST SACRAMENTO', 'city_WILTON', 'type_Condo',\n",
       "       'type_Multi-Family', 'type_Residential', 'type_Unkown'],\n",
       "      dtype='object')"
      ]
     },
     "execution_count": 19,
     "metadata": {},
     "output_type": "execute_result"
    }
   ],
   "source": [
    "dat_onehot.columns"
   ]
  },
  {
   "cell_type": "code",
   "execution_count": 20,
   "metadata": {},
   "outputs": [],
   "source": [
    "X = dat_onehot[\n",
    "    'beds baths sq__ft latitude longitude'.split()\n",
    "    + list(dat_onehot.columns[10:])\n",
    "]\n",
    "y = dat_onehot['price']"
   ]
  },
  {
   "cell_type": "code",
   "execution_count": 21,
   "metadata": {},
   "outputs": [
    {
     "data": {
      "text/html": [
       "<div>\n",
       "<style scoped>\n",
       "    .dataframe tbody tr th:only-of-type {\n",
       "        vertical-align: middle;\n",
       "    }\n",
       "\n",
       "    .dataframe tbody tr th {\n",
       "        vertical-align: top;\n",
       "    }\n",
       "\n",
       "    .dataframe thead th {\n",
       "        text-align: right;\n",
       "    }\n",
       "</style>\n",
       "<table border=\"1\" class=\"dataframe\">\n",
       "  <thead>\n",
       "    <tr style=\"text-align: right;\">\n",
       "      <th></th>\n",
       "      <th>beds</th>\n",
       "      <th>baths</th>\n",
       "      <th>sq__ft</th>\n",
       "      <th>latitude</th>\n",
       "      <th>longitude</th>\n",
       "      <th>city_ANTELOPE</th>\n",
       "      <th>city_AUBURN</th>\n",
       "      <th>city_CAMERON PARK</th>\n",
       "      <th>city_CARMICHAEL</th>\n",
       "      <th>city_CITRUS HEIGHTS</th>\n",
       "      <th>...</th>\n",
       "      <th>city_SACRAMENTO</th>\n",
       "      <th>city_SHINGLE SPRINGS</th>\n",
       "      <th>city_SLOUGHHOUSE</th>\n",
       "      <th>city_WALNUT GROVE</th>\n",
       "      <th>city_WEST SACRAMENTO</th>\n",
       "      <th>city_WILTON</th>\n",
       "      <th>type_Condo</th>\n",
       "      <th>type_Multi-Family</th>\n",
       "      <th>type_Residential</th>\n",
       "      <th>type_Unkown</th>\n",
       "    </tr>\n",
       "  </thead>\n",
       "  <tbody>\n",
       "    <tr>\n",
       "      <th>0</th>\n",
       "      <td>2</td>\n",
       "      <td>1</td>\n",
       "      <td>836</td>\n",
       "      <td>38.631913</td>\n",
       "      <td>-121.434879</td>\n",
       "      <td>0</td>\n",
       "      <td>0</td>\n",
       "      <td>0</td>\n",
       "      <td>0</td>\n",
       "      <td>0</td>\n",
       "      <td>...</td>\n",
       "      <td>1</td>\n",
       "      <td>0</td>\n",
       "      <td>0</td>\n",
       "      <td>0</td>\n",
       "      <td>0</td>\n",
       "      <td>0</td>\n",
       "      <td>0</td>\n",
       "      <td>0</td>\n",
       "      <td>1</td>\n",
       "      <td>0</td>\n",
       "    </tr>\n",
       "    <tr>\n",
       "      <th>1</th>\n",
       "      <td>3</td>\n",
       "      <td>1</td>\n",
       "      <td>1167</td>\n",
       "      <td>38.478902</td>\n",
       "      <td>-121.431028</td>\n",
       "      <td>0</td>\n",
       "      <td>0</td>\n",
       "      <td>0</td>\n",
       "      <td>0</td>\n",
       "      <td>0</td>\n",
       "      <td>...</td>\n",
       "      <td>1</td>\n",
       "      <td>0</td>\n",
       "      <td>0</td>\n",
       "      <td>0</td>\n",
       "      <td>0</td>\n",
       "      <td>0</td>\n",
       "      <td>0</td>\n",
       "      <td>0</td>\n",
       "      <td>1</td>\n",
       "      <td>0</td>\n",
       "    </tr>\n",
       "    <tr>\n",
       "      <th>2</th>\n",
       "      <td>2</td>\n",
       "      <td>1</td>\n",
       "      <td>796</td>\n",
       "      <td>38.618305</td>\n",
       "      <td>-121.443839</td>\n",
       "      <td>0</td>\n",
       "      <td>0</td>\n",
       "      <td>0</td>\n",
       "      <td>0</td>\n",
       "      <td>0</td>\n",
       "      <td>...</td>\n",
       "      <td>1</td>\n",
       "      <td>0</td>\n",
       "      <td>0</td>\n",
       "      <td>0</td>\n",
       "      <td>0</td>\n",
       "      <td>0</td>\n",
       "      <td>0</td>\n",
       "      <td>0</td>\n",
       "      <td>1</td>\n",
       "      <td>0</td>\n",
       "    </tr>\n",
       "    <tr>\n",
       "      <th>3</th>\n",
       "      <td>2</td>\n",
       "      <td>1</td>\n",
       "      <td>852</td>\n",
       "      <td>38.616835</td>\n",
       "      <td>-121.439146</td>\n",
       "      <td>0</td>\n",
       "      <td>0</td>\n",
       "      <td>0</td>\n",
       "      <td>0</td>\n",
       "      <td>0</td>\n",
       "      <td>...</td>\n",
       "      <td>1</td>\n",
       "      <td>0</td>\n",
       "      <td>0</td>\n",
       "      <td>0</td>\n",
       "      <td>0</td>\n",
       "      <td>0</td>\n",
       "      <td>0</td>\n",
       "      <td>0</td>\n",
       "      <td>1</td>\n",
       "      <td>0</td>\n",
       "    </tr>\n",
       "    <tr>\n",
       "      <th>4</th>\n",
       "      <td>2</td>\n",
       "      <td>1</td>\n",
       "      <td>797</td>\n",
       "      <td>38.519470</td>\n",
       "      <td>-121.435768</td>\n",
       "      <td>0</td>\n",
       "      <td>0</td>\n",
       "      <td>0</td>\n",
       "      <td>0</td>\n",
       "      <td>0</td>\n",
       "      <td>...</td>\n",
       "      <td>1</td>\n",
       "      <td>0</td>\n",
       "      <td>0</td>\n",
       "      <td>0</td>\n",
       "      <td>0</td>\n",
       "      <td>0</td>\n",
       "      <td>0</td>\n",
       "      <td>0</td>\n",
       "      <td>1</td>\n",
       "      <td>0</td>\n",
       "    </tr>\n",
       "  </tbody>\n",
       "</table>\n",
       "<p>5 rows × 48 columns</p>\n",
       "</div>"
      ],
      "text/plain": [
       "   beds  baths  sq__ft   latitude   longitude  city_ANTELOPE  city_AUBURN  \\\n",
       "0     2      1     836  38.631913 -121.434879              0            0   \n",
       "1     3      1    1167  38.478902 -121.431028              0            0   \n",
       "2     2      1     796  38.618305 -121.443839              0            0   \n",
       "3     2      1     852  38.616835 -121.439146              0            0   \n",
       "4     2      1     797  38.519470 -121.435768              0            0   \n",
       "\n",
       "   city_CAMERON PARK  city_CARMICHAEL  city_CITRUS HEIGHTS  ...  \\\n",
       "0                  0                0                    0  ...   \n",
       "1                  0                0                    0  ...   \n",
       "2                  0                0                    0  ...   \n",
       "3                  0                0                    0  ...   \n",
       "4                  0                0                    0  ...   \n",
       "\n",
       "   city_SACRAMENTO  city_SHINGLE SPRINGS  city_SLOUGHHOUSE  city_WALNUT GROVE  \\\n",
       "0                1                     0                 0                  0   \n",
       "1                1                     0                 0                  0   \n",
       "2                1                     0                 0                  0   \n",
       "3                1                     0                 0                  0   \n",
       "4                1                     0                 0                  0   \n",
       "\n",
       "   city_WEST SACRAMENTO  city_WILTON  type_Condo  type_Multi-Family  \\\n",
       "0                     0            0           0                  0   \n",
       "1                     0            0           0                  0   \n",
       "2                     0            0           0                  0   \n",
       "3                     0            0           0                  0   \n",
       "4                     0            0           0                  0   \n",
       "\n",
       "   type_Residential  type_Unkown  \n",
       "0                 1            0  \n",
       "1                 1            0  \n",
       "2                 1            0  \n",
       "3                 1            0  \n",
       "4                 1            0  \n",
       "\n",
       "[5 rows x 48 columns]"
      ]
     },
     "execution_count": 21,
     "metadata": {},
     "output_type": "execute_result"
    }
   ],
   "source": [
    "X.head()"
   ]
  },
  {
   "cell_type": "code",
   "execution_count": 22,
   "metadata": {},
   "outputs": [],
   "source": [
    "from sklearn.decomposition import PCA"
   ]
  },
  {
   "cell_type": "code",
   "execution_count": 23,
   "metadata": {},
   "outputs": [
    {
     "data": {
      "text/plain": [
       "PCA()"
      ]
     },
     "execution_count": 23,
     "metadata": {},
     "output_type": "execute_result"
    }
   ],
   "source": [
    "enc = preprocessing.StandardScaler()\n",
    "pca = PCA()\n",
    "enc.fit(X)\n",
    "Xtrans = enc.transform(X)\n",
    "pca.fit(Xtrans)"
   ]
  },
  {
   "cell_type": "code",
   "execution_count": 24,
   "metadata": {},
   "outputs": [],
   "source": [
    "%matplotlib inline\n",
    "import matplotlib.pyplot as plt"
   ]
  },
  {
   "cell_type": "code",
   "execution_count": 25,
   "metadata": {},
   "outputs": [
    {
     "data": {
      "text/plain": [
       "[<matplotlib.lines.Line2D at 0x7f8db18965b0>]"
      ]
     },
     "execution_count": 25,
     "metadata": {},
     "output_type": "execute_result"
    },
    {
     "data": {
      "image/png": "[encoded data removed]",
      "text/plain": [
       "<Figure size 432x288 with 1 Axes>"
      ]
     },
     "metadata": {
      "needs_background": "light"
     },
     "output_type": "display_data"
    }
   ],
   "source": [
    "plt.plot(pca.explained_variance_ratio_.cumsum())"
   ]
  },
  {
   "cell_type": "code",
   "execution_count": 26,
   "metadata": {},
   "outputs": [
    {
     "data": {
      "text/plain": [
       "(985, 48)"
      ]
     },
     "execution_count": 26,
     "metadata": {},
     "output_type": "execute_result"
    }
   ],
   "source": [
    "Xtrans.shape"
   ]
  },
  {
   "cell_type": "markdown",
   "metadata": {},
   "source": [
    "If we want to capture 80% of the variance, we can tell PCA to do just that:"
   ]
  },
  {
   "cell_type": "code",
   "execution_count": 27,
   "metadata": {},
   "outputs": [],
   "source": [
    "enc = preprocessing.StandardScaler()\n",
    "pca = PCA(0.8)\n",
    "Xtrans = enc.fit_transform(X)\n",
    "Xtrans_pca = pca.fit_transform(Xtrans)"
   ]
  },
  {
   "cell_type": "code",
   "execution_count": 28,
   "metadata": {},
   "outputs": [
    {
     "data": {
      "text/plain": [
       "(985, 32)"
      ]
     },
     "execution_count": 28,
     "metadata": {},
     "output_type": "execute_result"
    }
   ],
   "source": [
    "Xtrans_pca.shape"
   ]
  },
  {
   "cell_type": "code",
   "execution_count": null,
   "metadata": {},
   "outputs": [],
   "source": []
  }
 ],
 "metadata": {
  "kernelspec": {
   "display_name": "Python 3",
   "language": "python",
   "name": "python3"
  },
  "language_info": {
   "codemirror_mode": {
    "name": "ipython",
    "version": 3
   },
   "file_extension": ".py",
   "mimetype": "text/x-python",
   "name": "python",
   "nbconvert_exporter": "python",
   "pygments_lexer": "ipython3",
   "version": "3.8.5"
  }
 },
 "nbformat": 4,
 "nbformat_minor": 2
}
