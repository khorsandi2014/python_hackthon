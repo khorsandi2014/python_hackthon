{
 "cells": [
  {
   "cell_type": "markdown",
   "metadata": {
    "colab_type": "text",
    "id": "-SE-U33Yb2Dz"
   },
   "source": [
    "# Demo: Linear Regression"
   ]
  },
  {
   "cell_type": "code",
   "execution_count": 2,
   "metadata": {
    "ExecuteTime": {
     "end_time": "2018-03-16T21:14:52.271291Z",
     "start_time": "2018-03-16T21:14:52.265698Z"
    },
    "colab": {},
    "colab_type": "code",
    "executionInfo": {
     "elapsed": 305,
     "status": "ok",
     "timestamp": 1595520567176,
     "user": {
      "displayName": "Tyler Bettilyon",
      "photoUrl": "https://lh3.googleusercontent.com/a-/AOh14GgiI_fIvmEFVcz6ryPVwL29WmauHPmq4LMu1kGC=s64",
      "userId": "11726282730367601774"
     },
     "user_tz": 360
    },
    "id": "FJemMMV3b2D2"
   },
   "outputs": [],
   "source": [
    "%matplotlib inline\n",
    "import matplotlib.pyplot as plt\n",
    "import numpy as np"
   ]
  },
  {
   "cell_type": "markdown",
   "metadata": {
    "colab_type": "text",
    "id": "3JLayGivb2EB"
   },
   "source": [
    "## First, let's create some linear data"
   ]
  },
  {
   "cell_type": "code",
   "execution_count": 3,
   "metadata": {
    "ExecuteTime": {
     "end_time": "2018-03-16T21:14:52.279350Z",
     "start_time": "2018-03-16T21:14:52.273563Z"
    },
    "colab": {
     "base_uri": "https://localhost:8080/",
     "height": 191
    },
    "colab_type": "code",
    "executionInfo": {
     "elapsed": 539,
     "status": "ok",
     "timestamp": 1595520568392,
     "user": {
      "displayName": "Tyler Bettilyon",
      "photoUrl": "https://lh3.googleusercontent.com/a-/AOh14GgiI_fIvmEFVcz6ryPVwL29WmauHPmq4LMu1kGC=s64",
      "userId": "11726282730367601774"
     },
     "user_tz": 360
    },
    "id": "PowcpCRtb2EG",
    "outputId": "b3b9f122-6ac5-4a96-f7f9-9908b6e340b6"
   },
   "outputs": [
    {
     "data": {
      "text/plain": [
       "array([1.54162842, 7.40049697, 2.63315015, 5.33739393, 0.14574962,\n",
       "       9.18747008, 9.00714854, 0.33421428, 9.56949336, 1.37209321,\n",
       "       2.83828353, 6.06083184, 9.44225136, 8.52735541, 0.02259234,\n",
       "       5.21226027, 5.52037633, 4.85377414, 7.68134154, 1.60716753,\n",
       "       7.6456045 , 0.20809798, 1.35210178, 1.16273017, 3.09897584,\n",
       "       6.71452645, 4.71229778, 8.16168298, 2.89586784, 7.33125978,\n",
       "       7.02622355, 3.27569476, 3.34647529, 9.78058079, 6.24582112,\n",
       "       9.50313525, 7.67475651, 8.25009253, 4.06640302, 4.51308411,\n",
       "       4.00631627, 9.9513816 , 1.77564176, 9.62596903, 4.1925027 ,\n",
       "       4.24052447, 4.6314887 , 3.73723149, 4.655081  , 0.35168261])"
      ]
     },
     "execution_count": 3,
     "metadata": {
      "tags": []
     },
     "output_type": "execute_result"
    }
   ],
   "source": [
    "rng = np.random.RandomState(12)\n",
    "x = 10 * rng.rand(50) \n",
    "x"
   ]
  },
  {
   "cell_type": "code",
   "execution_count": 13,
   "metadata": {
    "ExecuteTime": {
     "end_time": "2018-03-16T21:14:52.365634Z",
     "start_time": "2018-03-16T21:14:52.281306Z"
    },
    "colab": {
     "base_uri": "https://localhost:8080/",
     "height": 265
    },
    "colab_type": "code",
    "executionInfo": {
     "elapsed": 466,
     "status": "ok",
     "timestamp": 1595522340239,
     "user": {
      "displayName": "Tyler Bettilyon",
      "photoUrl": "https://lh3.googleusercontent.com/a-/AOh14GgiI_fIvmEFVcz6ryPVwL29WmauHPmq4LMu1kGC=s64",
      "userId": "11726282730367601774"
     },
     "user_tz": 360
    },
    "id": "kL8Bm7YRb2EN",
    "outputId": "cf7708b1-2484-4197-d6a7-f1b87fdc3dd0"
   },
   "outputs": [
    {
     "data": {
      "image/png": "[encoded data removed]",
      "text/plain": [
       "<Figure size 432x288 with 1 Axes>"
      ]
     },
     "metadata": {
      "needs_background": "light",
      "tags": []
     },
     "output_type": "display_data"
    }
   ],
   "source": [
    "y = 2 * x - 6 + rng.randn(50) # add some noise to the output\n",
    "plt.scatter(x, y);"
   ]
  },
  {
   "cell_type": "code",
   "execution_count": 11,
   "metadata": {
    "ExecuteTime": {
     "end_time": "2018-03-16T21:14:52.466703Z",
     "start_time": "2018-03-16T21:14:52.367693Z"
    },
    "colab": {
     "base_uri": "https://localhost:8080/",
     "height": 34
    },
    "colab_type": "code",
    "executionInfo": {
     "elapsed": 415,
     "status": "ok",
     "timestamp": 1595522262096,
     "user": {
      "displayName": "Tyler Bettilyon",
      "photoUrl": "https://lh3.googleusercontent.com/a-/AOh14GgiI_fIvmEFVcz6ryPVwL29WmauHPmq4LMu1kGC=s64",
      "userId": "11726282730367601774"
     },
     "user_tz": 360
    },
    "id": "a5I4_Sanb2EU",
    "outputId": "4706d41d-f600-4080-bb37-1c74e22a25e1"
   },
   "outputs": [
    {
     "data": {
      "text/plain": [
       "(50,)"
      ]
     },
     "execution_count": 11,
     "metadata": {
      "tags": []
     },
     "output_type": "execute_result"
    }
   ],
   "source": [
    "from sklearn.linear_model import LinearRegression\n",
    "model = LinearRegression()\n",
    "x.shape"
   ]
  },
  {
   "cell_type": "code",
   "execution_count": 12,
   "metadata": {
    "colab": {
     "base_uri": "https://localhost:8080/",
     "height": 265
    },
    "colab_type": "code",
    "executionInfo": {
     "elapsed": 435,
     "status": "ok",
     "timestamp": 1595522264354,
     "user": {
      "displayName": "Tyler Bettilyon",
      "photoUrl": "https://lh3.googleusercontent.com/a-/AOh14GgiI_fIvmEFVcz6ryPVwL29WmauHPmq4LMu1kGC=s64",
      "userId": "11726282730367601774"
     },
     "user_tz": 360
    },
    "id": "J0AiuAHfb2EZ",
    "outputId": "570ee27f-4b78-4634-bd75-257c742f535f"
   },
   "outputs": [
    {
     "data": {
      "image/png": "[encoded data removed]",
      "text/plain": [
       "<Figure size 432x288 with 1 Axes>"
      ]
     },
     "metadata": {
      "needs_background": "light",
      "tags": []
     },
     "output_type": "display_data"
    }
   ],
   "source": [
    "model.fit(x[:, np.newaxis], y)\n",
    "xfit = np.linspace(0, 10, 10)\n",
    "yfit = model.predict(xfit[:, np.newaxis])\n",
    "plt.scatter(x, y)\n",
    "plt.plot(xfit, yfit, color='red');"
   ]
  },
  {
   "cell_type": "markdown",
   "metadata": {
    "colab_type": "text",
    "id": "ceEta4zvb2Ef"
   },
   "source": [
    "## Let's examine the coefficient and intercept"
   ]
  },
  {
   "cell_type": "code",
   "execution_count": 7,
   "metadata": {
    "ExecuteTime": {
     "end_time": "2018-03-16T21:14:52.473891Z",
     "start_time": "2018-03-16T21:14:52.468821Z"
    },
    "colab": {
     "base_uri": "https://localhost:8080/",
     "height": 34
    },
    "colab_type": "code",
    "executionInfo": {
     "elapsed": 389,
     "status": "ok",
     "timestamp": 1595520833199,
     "user": {
      "displayName": "Tyler Bettilyon",
      "photoUrl": "https://lh3.googleusercontent.com/a-/AOh14GgiI_fIvmEFVcz6ryPVwL29WmauHPmq4LMu1kGC=s64",
      "userId": "11726282730367601774"
     },
     "user_tz": 360
    },
    "id": "Y45i1Nqqb2Eg",
    "outputId": "dfcc3312-b841-4cff-813a-6ad642597e77"
   },
   "outputs": [
    {
     "data": {
      "text/plain": [
       "array([1.93665786])"
      ]
     },
     "execution_count": 7,
     "metadata": {
      "tags": []
     },
     "output_type": "execute_result"
    }
   ],
   "source": [
    "model.coef_"
   ]
  },
  {
   "cell_type": "code",
   "execution_count": 8,
   "metadata": {
    "ExecuteTime": {
     "end_time": "2018-03-16T21:14:52.481044Z",
     "start_time": "2018-03-16T21:14:52.475773Z"
    },
    "colab": {
     "base_uri": "https://localhost:8080/",
     "height": 34
    },
    "colab_type": "code",
    "executionInfo": {
     "elapsed": 331,
     "status": "ok",
     "timestamp": 1595520833495,
     "user": {
      "displayName": "Tyler Bettilyon",
      "photoUrl": "https://lh3.googleusercontent.com/a-/AOh14GgiI_fIvmEFVcz6ryPVwL29WmauHPmq4LMu1kGC=s64",
      "userId": "11726282730367601774"
     },
     "user_tz": 360
    },
    "id": "VJ0I5l6Mb2Em",
    "outputId": "360fd27e-07f0-4c54-9e5e-d6943fc4795b"
   },
   "outputs": [
    {
     "data": {
      "text/plain": [
       "-5.728259340779383"
      ]
     },
     "execution_count": 8,
     "metadata": {
      "tags": []
     },
     "output_type": "execute_result"
    }
   ],
   "source": [
    "model.intercept_"
   ]
  },
  {
   "cell_type": "code",
   "execution_count": 9,
   "metadata": {
    "colab": {
     "base_uri": "https://localhost:8080/",
     "height": 34
    },
    "colab_type": "code",
    "executionInfo": {
     "elapsed": 323,
     "status": "ok",
     "timestamp": 1595520834850,
     "user": {
      "displayName": "Tyler Bettilyon",
      "photoUrl": "https://lh3.googleusercontent.com/a-/AOh14GgiI_fIvmEFVcz6ryPVwL29WmauHPmq4LMu1kGC=s64",
      "userId": "11726282730367601774"
     },
     "user_tz": 360
    },
    "id": "mtfsQzOlb2Ep",
    "outputId": "11026baa-ddf7-439b-9ffc-5d3109db6e10"
   },
   "outputs": [
    {
     "name": "stdout",
     "output_type": "stream",
     "text": [
      "y = 1.94x + -5.73\n"
     ]
    }
   ],
   "source": [
    "# Use Python 3.6 f-strings to print out the formula of the regression line\n",
    "print(f'y = {model.coef_[0]:.2f}x + {model.intercept_:.2f}')"
   ]
  },
  {
   "cell_type": "markdown",
   "metadata": {
    "colab_type": "text",
    "id": "jqMTHdm2b2Ev"
   },
   "source": [
    "## Linear Model Assumptions\n",
    "In econometrics we care about assumption.  In ML we don't usually care.  \n",
    "1. The linear regression model is “linear in parameters.”\n",
    "2. There is a random sampling of observations.\n",
    "3. The conditional mean should be zero.\n",
    "4. There is no multi-collinearity (or perfect collinearity).\n",
    "5. Spherical errors: There is homoscedasticity and no autocorrelation\n",
    "6. Error terms should be normally distributed.\n",
    "\n",
    "In ML we don't usually use these assumptions, but may get worse performance if we violate them. \n",
    "\n",
    "In practice, 1, 2, 3 are more important.  The others are OK to violate if not too much. Violating any of these will degrade performance. "
   ]
  },
  {
   "cell_type": "code",
   "execution_count": null,
   "metadata": {
    "colab": {},
    "colab_type": "code",
    "id": "JPsdBOEFb2Ew"
   },
   "outputs": [],
   "source": []
  }
 ],
 "metadata": {
  "colab": {
   "name": "05-linear-models.ipynb",
   "provenance": []
  },
  "kernelspec": {
   "display_name": "Python 3",
   "language": "python",
   "name": "python3"
  },
  "language_info": {
   "codemirror_mode": {
    "name": "ipython",
    "version": 3
   },
   "file_extension": ".py",
   "mimetype": "text/x-python",
   "name": "python",
   "nbconvert_exporter": "python",
   "pygments_lexer": "ipython3",
   "version": "3.7.6"
  }
 },
 "nbformat": 4,
 "nbformat_minor": 1
}
