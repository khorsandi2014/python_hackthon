{
 "cells": [
  {
   "cell_type": "markdown",
   "metadata": {},
   "source": [
    "# Model Evaluation and Validation\n",
    "\n",
    "## Model Evaluation: Classifiers\n",
    "\n",
    "- Accuracy\n",
    "- Precision\n",
    "- Recall\n",
    "- Log-Loss\n",
    "\n",
    "## Balancing under- and over-fitting: cross-validation"
   ]
  },
  {
   "cell_type": "markdown",
   "metadata": {},
   "source": [
    "# Classifier Evaluation: Accuracy\n",
    "\n",
    "## Accuracy = (# correct predictions) / (total # of predictions)\n",
    "\n",
    "\"% correct\"\n",
    "\n",
    "Decent to train classifiers on, but some nuance is missing"
   ]
  },
  {
   "cell_type": "markdown",
   "metadata": {},
   "source": [
    "# Classifier Evaluation: Precision and Recall\n",
    "\n",
    "![Precision Recall](../data/img/Precisionrecall.svg)\n",
    "\n",
    "By Walber - Own work, CC BY-SA 4.0, https://commons.wikimedia.org/w/index.php?curid=36926283"
   ]
  },
  {
   "cell_type": "markdown",
   "metadata": {},
   "source": [
    "# Scoring probabilities: log-loss\n",
    "\n",
    "The sum of:\n",
    "\n",
    "- the log of the probability we assigned to the correct class\n",
    "- the log of (1-the probability we assigned to the incorrect class(es))"
   ]
  },
  {
   "cell_type": "code",
   "execution_count": 1,
   "metadata": {},
   "outputs": [],
   "source": [
    "import numpy as np\n",
    "from sklearn.metrics import log_loss"
   ]
  },
  {
   "cell_type": "code",
   "execution_count": 2,
   "metadata": {},
   "outputs": [],
   "source": [
    "probs = np.r_[0:1:50j]\n",
    "prob_predictions = np.c_[probs, 1.0 - probs]"
   ]
  },
  {
   "cell_type": "code",
   "execution_count": 3,
   "metadata": {},
   "outputs": [],
   "source": [
    "%matplotlib inline\n",
    "import matplotlib.pyplot as plt"
   ]
  },
  {
   "cell_type": "code",
   "execution_count": 4,
   "metadata": {},
   "outputs": [],
   "source": [
    "log_loss_values = [\n",
    "    log_loss([0], [prob], labels=[0, 1])\n",
    "    for prob in prob_predictions\n",
    "]"
   ]
  },
  {
   "cell_type": "code",
   "execution_count": 5,
   "metadata": {},
   "outputs": [
    {
     "data": {
      "text/plain": [
       "Text(0.5, 0, 'P(y=0)')"
      ]
     },
     "execution_count": 5,
     "metadata": {},
     "output_type": "execute_result"
    },
    {
     "data": {
      "image/png": "[encoded data removed]",
      "text/plain": [
       "<Figure size 432x288 with 1 Axes>"
      ]
     },
     "metadata": {
      "needs_background": "light"
     },
     "output_type": "display_data"
    }
   ],
   "source": [
    "plt.plot(probs[1:], log_loss_values[1:])\n",
    "plt.title('Log loss for ytrue=0')\n",
    "plt.ylabel('log-loss')\n",
    "plt.xlabel('P(y=0)')"
   ]
  },
  {
   "cell_type": "markdown",
   "metadata": {},
   "source": [
    "# Types of errors, validation, model tuning"
   ]
  },
  {
   "cell_type": "markdown",
   "metadata": {},
   "source": [
    "## High Bias = Underfitting\n",
    "\n",
    "Our model is not flexible enough to capture underlying reality, e.g. using a linear model for a nonlinear reality.\n",
    "\n",
    "In this case, we observe that our *training* error is high (and our test error will also be high)."
   ]
  },
  {
   "cell_type": "markdown",
   "metadata": {},
   "source": [
    "## High Variance = Overfitting\n",
    "\n",
    "In this case, we've fit too closely to the particular training data we chose, and small variations in our data may lead to wildly different results. \n",
    "\n",
    "In this case, we observe that while our *training* error may be low, our *test* error is high (and can vary a lot based on how we split test and train data)."
   ]
  },
  {
   "cell_type": "markdown",
   "metadata": {},
   "source": [
    "## Using Cross-Validation to limit overfitting\n",
    "\n",
    "In this case, we actually perform *two* splits of our input data:\n",
    "\n",
    "1. First, we sample some of the data and set it aside as our *test* dataset (and don't peek!)\n",
    "1. Next, we split the *remaining* data into a training set and a validation set. We then *train* the model on the training set and *evaluate* it on the validation set.\n",
    "1. Repeat the previous step a number of times with different training/validation splits to verify that we aren't over-fitting"
   ]
  },
  {
   "cell_type": "markdown",
   "metadata": {},
   "source": [
    "## Cross-validation approaches: K-fold\n",
    "\n",
    "Split the data into k groups. Use each group once as the validation set, training on the rest"
   ]
  },
  {
   "cell_type": "code",
   "execution_count": 6,
   "metadata": {},
   "outputs": [
    {
     "data": {
      "text/html": [
       "<div>\n",
       "<style scoped>\n",
       "    .dataframe tbody tr th:only-of-type {\n",
       "        vertical-align: middle;\n",
       "    }\n",
       "\n",
       "    .dataframe tbody tr th {\n",
       "        vertical-align: top;\n",
       "    }\n",
       "\n",
       "    .dataframe thead th {\n",
       "        text-align: right;\n",
       "    }\n",
       "</style>\n",
       "<table border=\"1\" class=\"dataframe\">\n",
       "  <thead>\n",
       "    <tr style=\"text-align: right;\">\n",
       "      <th></th>\n",
       "      <th>Dates</th>\n",
       "      <th>Category</th>\n",
       "      <th>Descript</th>\n",
       "      <th>DayOfWeek</th>\n",
       "      <th>PdDistrict</th>\n",
       "      <th>Resolution</th>\n",
       "      <th>Address</th>\n",
       "      <th>X</th>\n",
       "      <th>Y</th>\n",
       "    </tr>\n",
       "  </thead>\n",
       "  <tbody>\n",
       "    <tr>\n",
       "      <th>0</th>\n",
       "      <td>2011-12-04 18:15:00</td>\n",
       "      <td>SUSPICIOUS OCC</td>\n",
       "      <td>SUSPICIOUS OCCURRENCE</td>\n",
       "      <td>Sunday</td>\n",
       "      <td>PARK</td>\n",
       "      <td>NONE</td>\n",
       "      <td>100 Block of BEULAH ST</td>\n",
       "      <td>-122.452331</td>\n",
       "      <td>37.767356</td>\n",
       "    </tr>\n",
       "    <tr>\n",
       "      <th>1</th>\n",
       "      <td>2009-01-11 19:57:00</td>\n",
       "      <td>WARRANTS</td>\n",
       "      <td>ENROUTE TO OUTSIDE JURISDICTION</td>\n",
       "      <td>Sunday</td>\n",
       "      <td>MISSION</td>\n",
       "      <td>ARREST, BOOKED</td>\n",
       "      <td>18TH ST / CAPP ST</td>\n",
       "      <td>-122.418272</td>\n",
       "      <td>37.761903</td>\n",
       "    </tr>\n",
       "    <tr>\n",
       "      <th>2</th>\n",
       "      <td>2007-01-25 18:15:00</td>\n",
       "      <td>NON-CRIMINAL</td>\n",
       "      <td>AIDED CASE, MENTAL DISTURBED</td>\n",
       "      <td>Thursday</td>\n",
       "      <td>CENTRAL</td>\n",
       "      <td>NONE</td>\n",
       "      <td>1200 Block of STOCKTON ST</td>\n",
       "      <td>-122.408521</td>\n",
       "      <td>37.797492</td>\n",
       "    </tr>\n",
       "    <tr>\n",
       "      <th>3</th>\n",
       "      <td>2012-01-10 08:55:00</td>\n",
       "      <td>ROBBERY</td>\n",
       "      <td>ROBBERY, BODILY FORCE</td>\n",
       "      <td>Tuesday</td>\n",
       "      <td>NORTHERN</td>\n",
       "      <td>NONE</td>\n",
       "      <td>HAYES ST / FRANKLIN ST</td>\n",
       "      <td>-122.421333</td>\n",
       "      <td>37.777090</td>\n",
       "    </tr>\n",
       "    <tr>\n",
       "      <th>4</th>\n",
       "      <td>2014-05-27 12:25:00</td>\n",
       "      <td>VANDALISM</td>\n",
       "      <td>MALICIOUS MISCHIEF, VANDALISM OF VEHICLES</td>\n",
       "      <td>Tuesday</td>\n",
       "      <td>TENDERLOIN</td>\n",
       "      <td>NONE</td>\n",
       "      <td>JONES ST / TURK ST</td>\n",
       "      <td>-122.412414</td>\n",
       "      <td>37.783004</td>\n",
       "    </tr>\n",
       "  </tbody>\n",
       "</table>\n",
       "</div>"
      ],
      "text/plain": [
       "                 Dates        Category  \\\n",
       "0  2011-12-04 18:15:00  SUSPICIOUS OCC   \n",
       "1  2009-01-11 19:57:00        WARRANTS   \n",
       "2  2007-01-25 18:15:00    NON-CRIMINAL   \n",
       "3  2012-01-10 08:55:00         ROBBERY   \n",
       "4  2014-05-27 12:25:00       VANDALISM   \n",
       "\n",
       "                                    Descript DayOfWeek  PdDistrict  \\\n",
       "0                      SUSPICIOUS OCCURRENCE    Sunday        PARK   \n",
       "1            ENROUTE TO OUTSIDE JURISDICTION    Sunday     MISSION   \n",
       "2               AIDED CASE, MENTAL DISTURBED  Thursday     CENTRAL   \n",
       "3                      ROBBERY, BODILY FORCE   Tuesday    NORTHERN   \n",
       "4  MALICIOUS MISCHIEF, VANDALISM OF VEHICLES   Tuesday  TENDERLOIN   \n",
       "\n",
       "       Resolution                    Address           X          Y  \n",
       "0            NONE     100 Block of BEULAH ST -122.452331  37.767356  \n",
       "1  ARREST, BOOKED          18TH ST / CAPP ST -122.418272  37.761903  \n",
       "2            NONE  1200 Block of STOCKTON ST -122.408521  37.797492  \n",
       "3            NONE     HAYES ST / FRANKLIN ST -122.421333  37.777090  \n",
       "4            NONE         JONES ST / TURK ST -122.412414  37.783004  "
      ]
     },
     "execution_count": 6,
     "metadata": {},
     "output_type": "execute_result"
    }
   ],
   "source": [
    "import pandas as pd\n",
    "\n",
    "train = pd.read_csv('../data/sfcrime-hackathon/hackathon_train.csv')\n",
    "train.head()"
   ]
  },
  {
   "cell_type": "code",
   "execution_count": 7,
   "metadata": {},
   "outputs": [],
   "source": [
    "from sklearn import preprocessing\n",
    "from sklearn import model_selection\n",
    "\n",
    "cv = model_selection.KFold(n_splits=5, shuffle=True)"
   ]
  },
  {
   "cell_type": "code",
   "execution_count": 8,
   "metadata": {},
   "outputs": [
    {
     "name": "stdout",
     "output_type": "stream",
     "text": [
      "(526828,) (131708,)\n",
      "(526829,) (131707,)\n",
      "(526829,) (131707,)\n",
      "(526829,) (131707,)\n",
      "(526829,) (131707,)\n"
     ]
    }
   ],
   "source": [
    "for train_idx, val_idx in cv.split(train):\n",
    "    print(train_idx.shape, val_idx.shape)"
   ]
  },
  {
   "cell_type": "markdown",
   "metadata": {},
   "source": [
    "Let's pick a simple model (and sample down our data) so we can see how this works with cross validation:"
   ]
  },
  {
   "cell_type": "code",
   "execution_count": 9,
   "metadata": {},
   "outputs": [],
   "source": [
    "enc = preprocessing.LabelEncoder()"
   ]
  },
  {
   "cell_type": "code",
   "execution_count": 10,
   "metadata": {},
   "outputs": [],
   "source": [
    "strain = train.sample(10000)\n",
    "X = pd.get_dummies(\n",
    "    strain['DayOfWeek PdDistrict X Y'.split()],\n",
    "    columns='DayOfWeek PdDistrict'.split()\n",
    ")\n",
    "y = enc.fit_transform(strain.Category)\n",
    "                   "
   ]
  },
  {
   "cell_type": "code",
   "execution_count": 11,
   "metadata": {},
   "outputs": [],
   "source": [
    "from sklearn.linear_model import LogisticRegression"
   ]
  },
  {
   "cell_type": "code",
   "execution_count": 12,
   "metadata": {},
   "outputs": [],
   "source": [
    "est = LogisticRegression(\n",
    "    solver='liblinear',\n",
    "    multi_class='auto',\n",
    ")"
   ]
  },
  {
   "cell_type": "markdown",
   "metadata": {},
   "source": [
    "Now we can cross-validate the estimator:"
   ]
  },
  {
   "cell_type": "code",
   "execution_count": 13,
   "metadata": {},
   "outputs": [
    {
     "data": {
      "text/plain": [
       "{'fit_time': array([0.37459207, 0.37705994, 0.38306308, 0.37395215, 0.36852479]),\n",
       " 'score_time': array([0.00218487, 0.00181413, 0.00181198, 0.00180507, 0.00183702]),\n",
       " 'test_score': array([0.209 , 0.225 , 0.187 , 0.2115, 0.204 ])}"
      ]
     },
     "execution_count": 13,
     "metadata": {},
     "output_type": "execute_result"
    }
   ],
   "source": [
    "model_selection.cross_validate(est, X, y, cv=cv, return_train_score=False)"
   ]
  },
  {
   "cell_type": "markdown",
   "metadata": {},
   "source": [
    "## Cross-validation approaches: stratified K-Fold\n",
    "\n",
    "Ensure that we have proportional representation of output classes\n"
   ]
  },
  {
   "cell_type": "code",
   "execution_count": 14,
   "metadata": {},
   "outputs": [
    {
     "name": "stderr",
     "output_type": "stream",
     "text": [
      "/Users/tylerbettilyon/.local/share/virtualenvs/hackathon-materials-lU1w-DVJ/lib/python3.7/site-packages/sklearn/model_selection/_split.py:667: UserWarning: The least populated class in y has only 2 members, which is less than n_splits=5.\n",
      "  % (min_groups, self.n_splits)), UserWarning)\n"
     ]
    },
    {
     "data": {
      "text/plain": [
       "{'fit_time': array([0.38916302, 0.37244081, 0.36312389, 0.37382698, 0.37274694]),\n",
       " 'score_time': array([0.00212884, 0.00180316, 0.00186706, 0.00180292, 0.00174785]),\n",
       " 'test_score': array([0.202 , 0.212 , 0.205 , 0.212 , 0.2055])}"
      ]
     },
     "execution_count": 14,
     "metadata": {},
     "output_type": "execute_result"
    }
   ],
   "source": [
    "cv = model_selection.StratifiedKFold(n_splits=5, shuffle=True)\n",
    "model_selection.cross_validate(est, X, y, cv=cv, return_train_score=False)"
   ]
  },
  {
   "cell_type": "markdown",
   "metadata": {},
   "source": [
    "## Cross-validation approaches: leave-one-out\n",
    "\n",
    "Use a single point as our training set. Repeat for all input points."
   ]
  },
  {
   "cell_type": "code",
   "execution_count": 15,
   "metadata": {},
   "outputs": [],
   "source": [
    "# First, sample our data even more because LOO is really compute-intensive\n",
    "\n",
    "strain = train.sample(1000)\n",
    "X = pd.get_dummies(\n",
    "    strain['DayOfWeek PdDistrict X Y'.split()],\n",
    "    columns='DayOfWeek PdDistrict'.split()\n",
    ")\n",
    "y = enc.fit_transform(strain.Category)\n",
    "                   "
   ]
  },
  {
   "cell_type": "code",
   "execution_count": 16,
   "metadata": {},
   "outputs": [
    {
     "data": {
      "text/plain": [
       "(0.192, 0.3938730760029175)"
      ]
     },
     "execution_count": 16,
     "metadata": {},
     "output_type": "execute_result"
    }
   ],
   "source": [
    "cv = model_selection.LeaveOneOut()\n",
    "result = model_selection.cross_validate(est, X, y, cv=cv, return_train_score=False)\n",
    "result['test_score'].mean(), result['test_score'].std()"
   ]
  }
 ],
 "metadata": {
  "kernelspec": {
   "display_name": "Python 3",
   "language": "python",
   "name": "python3"
  },
  "language_info": {
   "codemirror_mode": {
    "name": "ipython",
    "version": 3
   },
   "file_extension": ".py",
   "mimetype": "text/x-python",
   "name": "python",
   "nbconvert_exporter": "python",
   "pygments_lexer": "ipython3",
   "version": "3.7.6"
  }
 },
 "nbformat": 4,
 "nbformat_minor": 2
}
