{
 "cells": [
  {
   "cell_type": "markdown",
   "metadata": {},
   "source": [
    "## Exercise: Build a logistic regression model to predict fish species\n",
    "\n",
    "Using the fish dataset in this repo (location relative to this notebook: `../datasets/fish/Fish.csv`) do the following:\n",
    "\n",
    "1. Split the data into labels and features, with the \"species\" column being the label and the other columns as features.\n",
    "2. Split the fish data into training and validation sets.\n",
    "3. Fit the model!\n",
    "4. Score the model, what is this value? How should you interpret it?\n",
    "5. Examine the coefficents and intercept value...\n",
    "    * These are a strange shape compared to linear regression. \n",
    "    * Can you explain what they are?\n",
    "6. Compute and plot the a \"confusion matrix\"\n",
    "    * First of all you might want to answer the question: what IS a confusion matrix?\n",
    "    * Hint 1: [https://machinelearningmastery.com/confusion-matrix-machine-learning/](https://machinelearningmastery.com/confusion-matrix-machine-learning/)\n",
    "    * Hint 2: [https://scikit-learn.org/stable/auto_examples/model_selection/plot_confusion_matrix.html](https://scikit-learn.org/stable/auto_examples/model_selection/plot_confusion_matrix.html)\n",
    "    * Hint 3: [https://stackoverflow.com/questions/35572000/how-can-i-plot-a-confusion-matrix](https://stackoverflow.com/questions/35572000/how-can-i-plot-a-confusion-matrix)\n",
    "    * Is your model good at some classes and bad at others?\n",
    "    * Are there any interesting trends in the confusion matrix?"
   ]
  },
  {
   "cell_type": "code",
   "execution_count": 1,
   "metadata": {},
   "outputs": [
    {
     "data": {
      "text/html": [
       "<div>\n",
       "<style scoped>\n",
       "    .dataframe tbody tr th:only-of-type {\n",
       "        vertical-align: middle;\n",
       "    }\n",
       "\n",
       "    .dataframe tbody tr th {\n",
       "        vertical-align: top;\n",
       "    }\n",
       "\n",
       "    .dataframe thead th {\n",
       "        text-align: right;\n",
       "    }\n",
       "</style>\n",
       "<table border=\"1\" class=\"dataframe\">\n",
       "  <thead>\n",
       "    <tr style=\"text-align: right;\">\n",
       "      <th></th>\n",
       "      <th>Species</th>\n",
       "      <th>Weight</th>\n",
       "      <th>Length1</th>\n",
       "      <th>Length2</th>\n",
       "      <th>Length3</th>\n",
       "      <th>Height</th>\n",
       "      <th>Width</th>\n",
       "    </tr>\n",
       "  </thead>\n",
       "  <tbody>\n",
       "    <tr>\n",
       "      <th>0</th>\n",
       "      <td>Bream</td>\n",
       "      <td>242.0</td>\n",
       "      <td>23.2</td>\n",
       "      <td>25.4</td>\n",
       "      <td>30.0</td>\n",
       "      <td>11.5200</td>\n",
       "      <td>4.0200</td>\n",
       "    </tr>\n",
       "    <tr>\n",
       "      <th>1</th>\n",
       "      <td>Bream</td>\n",
       "      <td>290.0</td>\n",
       "      <td>24.0</td>\n",
       "      <td>26.3</td>\n",
       "      <td>31.2</td>\n",
       "      <td>12.4800</td>\n",
       "      <td>4.3056</td>\n",
       "    </tr>\n",
       "    <tr>\n",
       "      <th>2</th>\n",
       "      <td>Bream</td>\n",
       "      <td>340.0</td>\n",
       "      <td>23.9</td>\n",
       "      <td>26.5</td>\n",
       "      <td>31.1</td>\n",
       "      <td>12.3778</td>\n",
       "      <td>4.6961</td>\n",
       "    </tr>\n",
       "    <tr>\n",
       "      <th>3</th>\n",
       "      <td>Bream</td>\n",
       "      <td>363.0</td>\n",
       "      <td>26.3</td>\n",
       "      <td>29.0</td>\n",
       "      <td>33.5</td>\n",
       "      <td>12.7300</td>\n",
       "      <td>4.4555</td>\n",
       "    </tr>\n",
       "    <tr>\n",
       "      <th>4</th>\n",
       "      <td>Bream</td>\n",
       "      <td>430.0</td>\n",
       "      <td>26.5</td>\n",
       "      <td>29.0</td>\n",
       "      <td>34.0</td>\n",
       "      <td>12.4440</td>\n",
       "      <td>5.1340</td>\n",
       "    </tr>\n",
       "  </tbody>\n",
       "</table>\n",
       "</div>"
      ],
      "text/plain": [
       "  Species  Weight  Length1  Length2  Length3   Height   Width\n",
       "0   Bream   242.0     23.2     25.4     30.0  11.5200  4.0200\n",
       "1   Bream   290.0     24.0     26.3     31.2  12.4800  4.3056\n",
       "2   Bream   340.0     23.9     26.5     31.1  12.3778  4.6961\n",
       "3   Bream   363.0     26.3     29.0     33.5  12.7300  4.4555\n",
       "4   Bream   430.0     26.5     29.0     34.0  12.4440  5.1340"
      ]
     },
     "execution_count": 1,
     "metadata": {},
     "output_type": "execute_result"
    }
   ],
   "source": [
    "import numpy as np\n",
    "import pandas as pd\n",
    "from sklearn.linear_model import LogisticRegression\n",
    "from sklearn.model_selection import train_test_split\n",
    "import matplotlib.pyplot as plt\n",
    "\n",
    "\n",
    "# Load the data\n",
    "fish_dataset = pd.read_csv('../data/Fish.csv')\n",
    "fish_dataset.head(5)"
   ]
  },
  {
   "cell_type": "code",
   "execution_count": 2,
   "metadata": {},
   "outputs": [],
   "source": [
    "# 1. split the data into labels and features\n",
    "labels = fish_dataset['Species']\n",
    "features = fish_dataset.drop(columns=['Species'])\n",
    "\n",
    "# 2. test/train split\n",
    "training_data, test_data, training_labels, test_labels = train_test_split(features, labels, test_size=0.2)"
   ]
  },
  {
   "cell_type": "code",
   "execution_count": 3,
   "metadata": {},
   "outputs": [
    {
     "name": "stdout",
     "output_type": "stream",
     "text": [
      "0.6875\n"
     ]
    },
    {
     "name": "stderr",
     "output_type": "stream",
     "text": [
      "/Users/tylerbettilyon/opt/anaconda3/lib/python3.8/site-packages/sklearn/linear_model/_logistic.py:762: ConvergenceWarning: lbfgs failed to converge (status=1):\n",
      "STOP: TOTAL NO. of ITERATIONS REACHED LIMIT.\n",
      "\n",
      "Increase the number of iterations (max_iter) or scale the data as shown in:\n",
      "    https://scikit-learn.org/stable/modules/preprocessing.html\n",
      "Please also refer to the documentation for alternative solver options:\n",
      "    https://scikit-learn.org/stable/modules/linear_model.html#logistic-regression\n",
      "  n_iter_i = _check_optimize_result(\n"
     ]
    }
   ],
   "source": [
    "# 3. fit the model\n",
    "model = LogisticRegression()\n",
    "model.fit(training_data, training_labels)\n",
    "\n",
    "# 4. score the model\n",
    "print(model.score(test_data, test_labels))"
   ]
  },
  {
   "cell_type": "markdown",
   "metadata": {},
   "source": [
    "### oh... we don't love that error...\n",
    "\n",
    "It's telling us that during the training process the model had not converged to a stable state. During training the coefs are each adjusted by a small amount (the exact amount depends on the solver used, and how bad the predictions were during this round of training). Eventually, as the model trains we expect the adjustements to get smaller and smaller as the model \"converges\" to a state where it's predictions are no longer improving due to the new adjustments. \n",
    "\n",
    "Lets give our model some more rounds to converge."
   ]
  },
  {
   "cell_type": "code",
   "execution_count": 4,
   "metadata": {},
   "outputs": [
    {
     "name": "stdout",
     "output_type": "stream",
     "text": [
      "0.875\n"
     ]
    }
   ],
   "source": [
    "# 3. fit the model\n",
    "model = LogisticRegression(max_iter=10000)\n",
    "model.fit(training_data, training_labels)\n",
    "\n",
    "# 4. score the model\n",
    "print(model.score(test_data, test_labels))\n"
   ]
  },
  {
   "cell_type": "markdown",
   "metadata": {},
   "source": [
    "## Note that\n",
    "\n",
    "A ovr regression will generally converge much faster... lets see if that holds up in this case:"
   ]
  },
  {
   "cell_type": "code",
   "execution_count": 5,
   "metadata": {},
   "outputs": [
    {
     "name": "stdout",
     "output_type": "stream",
     "text": [
      "0.875\n"
     ]
    }
   ],
   "source": [
    "# 3. fit the model\n",
    "model = LogisticRegression(max_iter=500, multi_class='ovr')\n",
    "model.fit(training_data, training_labels)\n",
    "\n",
    "# 4. score the model\n",
    "print(model.score(test_data, test_labels))"
   ]
  },
  {
   "cell_type": "markdown",
   "metadata": {},
   "source": [
    "**Faster to train, and identical accuracy in this case** That won't ALWAYS be true, sometimes `multinomial` will outperform `ovr` but it's worth trying ovr first because if it's good enough you might not need to spend the extra time training a `multinomial`.\n",
    "\n",
    "### What was that score value?\n",
    "\n",
    "It's \"accuracy\" meaning our model is right about the species of fish 90% of the time. Not bad!"
   ]
  },
  {
   "cell_type": "code",
   "execution_count": 6,
   "metadata": {},
   "outputs": [
    {
     "name": "stdout",
     "output_type": "stream",
     "text": [
      "[[-1.35878239e-02 -4.89081674e-01 -2.75542549e-01  1.02285083e+00\n",
      "   1.54561084e+00 -9.10224331e-02]\n",
      " [-2.89490905e-02  2.98837515e-01  8.60969419e-02 -9.15437996e-01\n",
      "   2.22539478e+00  7.27199373e-02]\n",
      " [-4.11871783e-03  5.35684812e-01  2.34529910e+00 -2.87133006e+00\n",
      "   6.86563087e-02  2.08171150e+00]\n",
      " [-2.95045765e-02  4.27374287e-01  4.65856313e-01  5.67484850e-01\n",
      "  -3.76261788e-01 -1.11727732e-01]\n",
      " [-2.37957490e-02  1.03491373e-01 -1.60100441e+00  1.53902769e+00\n",
      "  -2.85519650e-01  1.77189672e+00]\n",
      " [-5.59609870e-01  3.90894506e-02  3.59620746e-02  3.76820438e-02\n",
      "  -2.91708220e-02 -2.98766490e-03]\n",
      " [ 2.74272901e-03 -5.52918342e-01 -1.03024475e-01  4.48803814e-01\n",
      "  -3.53641178e-01  1.21941877e+00]] \n",
      "\n",
      " [-24.89104085  -0.98000338  -1.17223704 -35.89694313  -6.05917092\n",
      "  13.37136503  -3.37434455]\n"
     ]
    }
   ],
   "source": [
    "print(model.coef_, '\\n\\n', model.intercept_)"
   ]
  },
  {
   "cell_type": "markdown",
   "metadata": {},
   "source": [
    "## What is that?\n",
    "\n",
    "The `coef_` is 7 arrays each of length 6. That is, one array of coefficents for each of the sigmoid functions that we fit, and one `coef` per input feature in each of those 5 arrays. \n",
    "\n",
    "7 comes from the number of unique fish species in our dataset. \n",
    "6 comes from the number of columns in the training data.\n",
    "\n",
    "The intercept also has 7 values: one for each of the species == one for each of the fitted sigmoid functions.\n",
    "\n",
    "## Part 6, the confusion matrix\n",
    "\n",
    "A confusion matrix is a helpful visual tool to identify how our model is performing with respect to each individual class. It is a `len(labels) x len(labels)` matrix. The columns indicate our model's prediction and the rows indicate the actual labels.\n",
    "\n",
    "The true lables are given by row, the predicted labels are given by column."
   ]
  },
  {
   "cell_type": "code",
   "execution_count": 7,
   "metadata": {},
   "outputs": [
    {
     "name": "stdout",
     "output_type": "stream",
     "text": [
      "[[6 0 0 0 0 0 0]\n",
      " [1 1 0 0 0 0 0]\n",
      " [0 0 9 0 0 1 0]\n",
      " [0 0 0 6 0 0 0]\n",
      " [0 0 0 0 4 1 0]\n",
      " [0 0 0 0 0 2 0]\n",
      " [0 0 1 0 0 0 0]]\n"
     ]
    },
    {
     "data": {
      "text/plain": [
       "<matplotlib.image.AxesImage at 0x7fa744b35c70>"
      ]
     },
     "execution_count": 7,
     "metadata": {},
     "output_type": "execute_result"
    },
    {
     "data": {
      "image/png": "[encoded data removed]",
      "text/plain": [
       "<Figure size 432x288 with 1 Axes>"
      ]
     },
     "metadata": {
      "needs_background": "light"
     },
     "output_type": "display_data"
    }
   ],
   "source": [
    "from sklearn.metrics import confusion_matrix\n",
    "\n",
    "predictions = model.predict(test_data)\n",
    "cm = confusion_matrix(test_labels, predictions)\n",
    "print(cm)\n",
    "plt.imshow(cm, cmap='binary')"
   ]
  },
  {
   "cell_type": "code",
   "execution_count": 8,
   "metadata": {},
   "outputs": [
    {
     "data": {
      "image/png": "[encoded data removed]",
      "text/plain": [
       "<Figure size 432x288 with 2 Axes>"
      ]
     },
     "metadata": {
      "needs_background": "light"
     },
     "output_type": "display_data"
    }
   ],
   "source": [
    "# We can make a prettier one using an extension to matplotlib called seaborn\n",
    "# Note, you may have to install this library in Anaconda (or your preferred package manager)\n",
    "import seaborn as sn\n",
    "\n",
    "name_labels = model.classes_\n",
    "\n",
    "sn.heatmap(cm, annot=True, xticklabels=name_labels, yticklabels=name_labels)\n",
    "plt.show()"
   ]
  },
  {
   "cell_type": "markdown",
   "metadata": {},
   "source": [
    "## Notes\n",
    "\n",
    "* This visualization makes it clear that our test data is very small. \n",
    "* We're usually right, but we've got 2 forms of error\n",
    "    * 2 Parkki's being classified as Breams\n",
    "    * 1 Whitefish being classified as a Perch\n",
    "    \n",
    "Just for fun, lets see this chart with the training data."
   ]
  },
  {
   "cell_type": "code",
   "execution_count": 9,
   "metadata": {},
   "outputs": [
    {
     "data": {
      "image/png": "[encoded data removed]",
      "text/plain": [
       "<Figure size 432x288 with 2 Axes>"
      ]
     },
     "metadata": {
      "needs_background": "light"
     },
     "output_type": "display_data"
    }
   ],
   "source": [
    "predictions = model.predict(training_data)\n",
    "cm = confusion_matrix(training_labels, predictions)\n",
    "sn.heatmap(cm, annot=True, xticklabels=name_labels, yticklabels=name_labels)\n",
    "plt.show()"
   ]
  },
  {
   "cell_type": "markdown",
   "metadata": {},
   "source": [
    "**This dataset is still way to small honestly, but Whitefish are apparently a challenge, possibly because we have so few samples of that class compared to the others**\n",
    "\n",
    "This problem, called \"class imbalance\" is something to be aware of. ML Models work best when each class is more-or-less equally represented in the training data. But do note, that wasn't a problem for Parkki in this case..."
   ]
  },
  {
   "cell_type": "code",
   "execution_count": null,
   "metadata": {},
   "outputs": [],
   "source": []
  }
 ],
 "metadata": {
  "kernelspec": {
   "display_name": "Python 3",
   "language": "python",
   "name": "python3"
  },
  "language_info": {
   "codemirror_mode": {
    "name": "ipython",
    "version": 3
   },
   "file_extension": ".py",
   "mimetype": "text/x-python",
   "name": "python",
   "nbconvert_exporter": "python",
   "pygments_lexer": "ipython3",
   "version": "3.7.4"
  }
 },
 "nbformat": 4,
 "nbformat_minor": 4
}
