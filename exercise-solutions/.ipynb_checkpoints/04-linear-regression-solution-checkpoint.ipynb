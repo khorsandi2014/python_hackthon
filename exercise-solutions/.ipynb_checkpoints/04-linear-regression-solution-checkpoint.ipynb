{
 "cells": [
  {
   "cell_type": "markdown",
   "metadata": {},
   "source": [
    "## Exercise: Build a linear regression model to predict fish weight\n",
    "\n",
    "Using the fish dataset in this repo (location relative to this notebook: `../datasets/fish/Fish.csv`) do the following:\n",
    "\n",
    "1. Split the data into labels and features, with the \"weight\" column being the label and the other columns as features.\n",
    "2. Drop all the \"species\" information from the input features (we'll assume all fish are similarly dense...).\n",
    "3. Split the fish data into training and validation sets.\n",
    "4. Fit the model!\n",
    "5. Score the model, what is this value? How should you interpret it?\n",
    "    * Hint, the default is this: [https://scikit-learn.org/stable/modules/generated/sklearn.metrics.r2_score.html](https://scikit-learn.org/stable/modules/generated/sklearn.metrics.r2_score.html)\n",
    "6. Examine the coefficents and intercept value...\n",
    "    * Which coefficent is tied to which input feature?\n",
    "    * Are there any that seem especially large, or otherwise strange?\n",
    "    * According to your model, what is the formula that maps fish features to fish weight?\n",
    "7. Compute and plot the residuals (error) of the validation scores.\n",
    "    * Hint, computing residuals: [https://stackoverflow.com/questions/55095437/in-python-sklearn-regression-is-there-a-command-to-return-residuals-for-all-rec](https://stackoverflow.com/questions/55095437/in-python-sklearn-regression-is-there-a-command-to-return-residuals-for-all-rec)\n",
    "    * Hint, creating a scatterplot: [https://matplotlib.org/3.3.3/api/_as_gen/matplotlib.pyplot.scatter.html](https://matplotlib.org/3.3.3/api/_as_gen/matplotlib.pyplot.scatter.html)\n",
    "    * Do you see any signs of heteroscedasticity or autocorrelation?\n",
    "    "
   ]
  },
  {
   "cell_type": "code",
   "execution_count": 1,
   "metadata": {},
   "outputs": [
    {
     "data": {
      "text/html": [
       "<div>\n",
       "<style scoped>\n",
       "    .dataframe tbody tr th:only-of-type {\n",
       "        vertical-align: middle;\n",
       "    }\n",
       "\n",
       "    .dataframe tbody tr th {\n",
       "        vertical-align: top;\n",
       "    }\n",
       "\n",
       "    .dataframe thead th {\n",
       "        text-align: right;\n",
       "    }\n",
       "</style>\n",
       "<table border=\"1\" class=\"dataframe\">\n",
       "  <thead>\n",
       "    <tr style=\"text-align: right;\">\n",
       "      <th></th>\n",
       "      <th>Species</th>\n",
       "      <th>Weight</th>\n",
       "      <th>Length1</th>\n",
       "      <th>Length2</th>\n",
       "      <th>Length3</th>\n",
       "      <th>Height</th>\n",
       "      <th>Width</th>\n",
       "    </tr>\n",
       "  </thead>\n",
       "  <tbody>\n",
       "    <tr>\n",
       "      <th>0</th>\n",
       "      <td>Bream</td>\n",
       "      <td>242.0</td>\n",
       "      <td>23.2</td>\n",
       "      <td>25.4</td>\n",
       "      <td>30.0</td>\n",
       "      <td>11.5200</td>\n",
       "      <td>4.0200</td>\n",
       "    </tr>\n",
       "    <tr>\n",
       "      <th>1</th>\n",
       "      <td>Bream</td>\n",
       "      <td>290.0</td>\n",
       "      <td>24.0</td>\n",
       "      <td>26.3</td>\n",
       "      <td>31.2</td>\n",
       "      <td>12.4800</td>\n",
       "      <td>4.3056</td>\n",
       "    </tr>\n",
       "    <tr>\n",
       "      <th>2</th>\n",
       "      <td>Bream</td>\n",
       "      <td>340.0</td>\n",
       "      <td>23.9</td>\n",
       "      <td>26.5</td>\n",
       "      <td>31.1</td>\n",
       "      <td>12.3778</td>\n",
       "      <td>4.6961</td>\n",
       "    </tr>\n",
       "    <tr>\n",
       "      <th>3</th>\n",
       "      <td>Bream</td>\n",
       "      <td>363.0</td>\n",
       "      <td>26.3</td>\n",
       "      <td>29.0</td>\n",
       "      <td>33.5</td>\n",
       "      <td>12.7300</td>\n",
       "      <td>4.4555</td>\n",
       "    </tr>\n",
       "    <tr>\n",
       "      <th>4</th>\n",
       "      <td>Bream</td>\n",
       "      <td>430.0</td>\n",
       "      <td>26.5</td>\n",
       "      <td>29.0</td>\n",
       "      <td>34.0</td>\n",
       "      <td>12.4440</td>\n",
       "      <td>5.1340</td>\n",
       "    </tr>\n",
       "  </tbody>\n",
       "</table>\n",
       "</div>"
      ],
      "text/plain": [
       "  Species  Weight  Length1  Length2  Length3   Height   Width\n",
       "0   Bream   242.0     23.2     25.4     30.0  11.5200  4.0200\n",
       "1   Bream   290.0     24.0     26.3     31.2  12.4800  4.3056\n",
       "2   Bream   340.0     23.9     26.5     31.1  12.3778  4.6961\n",
       "3   Bream   363.0     26.3     29.0     33.5  12.7300  4.4555\n",
       "4   Bream   430.0     26.5     29.0     34.0  12.4440  5.1340"
      ]
     },
     "execution_count": 1,
     "metadata": {},
     "output_type": "execute_result"
    }
   ],
   "source": [
    "import numpy as np\n",
    "import pandas as pd\n",
    "from sklearn.linear_model import LinearRegression\n",
    "from sklearn.model_selection import train_test_split\n",
    "import matplotlib.pyplot as plt\n",
    "\n",
    "\n",
    "# Load the data\n",
    "fish_dataset = pd.read_csv('../data/Fish.csv')\n",
    "fish_dataset.head(5)"
   ]
  },
  {
   "cell_type": "code",
   "execution_count": 2,
   "metadata": {},
   "outputs": [],
   "source": [
    "# 1. split the data into labels and features\n",
    "labels = fish_dataset['Weight']\n",
    "features = fish_dataset.drop(columns=['Species', 'Weight'])\n",
    "\n",
    "# 2. test/train split\n",
    "training_data, test_data, training_labels, test_labels = train_test_split(features, labels, test_size=0.2)"
   ]
  },
  {
   "cell_type": "code",
   "execution_count": 3,
   "metadata": {},
   "outputs": [
    {
     "data": {
      "text/html": [
       "<div>\n",
       "<style scoped>\n",
       "    .dataframe tbody tr th:only-of-type {\n",
       "        vertical-align: middle;\n",
       "    }\n",
       "\n",
       "    .dataframe tbody tr th {\n",
       "        vertical-align: top;\n",
       "    }\n",
       "\n",
       "    .dataframe thead th {\n",
       "        text-align: right;\n",
       "    }\n",
       "</style>\n",
       "<table border=\"1\" class=\"dataframe\">\n",
       "  <thead>\n",
       "    <tr style=\"text-align: right;\">\n",
       "      <th></th>\n",
       "      <th>Length1</th>\n",
       "      <th>Length2</th>\n",
       "      <th>Length3</th>\n",
       "      <th>Height</th>\n",
       "      <th>Width</th>\n",
       "    </tr>\n",
       "  </thead>\n",
       "  <tbody>\n",
       "    <tr>\n",
       "      <th>44</th>\n",
       "      <td>20.5</td>\n",
       "      <td>22.0</td>\n",
       "      <td>24.3</td>\n",
       "      <td>6.6339</td>\n",
       "      <td>3.5478</td>\n",
       "    </tr>\n",
       "    <tr>\n",
       "      <th>45</th>\n",
       "      <td>20.5</td>\n",
       "      <td>22.5</td>\n",
       "      <td>25.3</td>\n",
       "      <td>7.0334</td>\n",
       "      <td>3.8203</td>\n",
       "    </tr>\n",
       "    <tr>\n",
       "      <th>118</th>\n",
       "      <td>36.6</td>\n",
       "      <td>39.0</td>\n",
       "      <td>41.3</td>\n",
       "      <td>12.4313</td>\n",
       "      <td>7.3514</td>\n",
       "    </tr>\n",
       "    <tr>\n",
       "      <th>25</th>\n",
       "      <td>31.8</td>\n",
       "      <td>35.0</td>\n",
       "      <td>40.9</td>\n",
       "      <td>16.3600</td>\n",
       "      <td>6.0532</td>\n",
       "    </tr>\n",
       "    <tr>\n",
       "      <th>31</th>\n",
       "      <td>35.0</td>\n",
       "      <td>38.5</td>\n",
       "      <td>44.0</td>\n",
       "      <td>18.0840</td>\n",
       "      <td>6.2920</td>\n",
       "    </tr>\n",
       "  </tbody>\n",
       "</table>\n",
       "</div>"
      ],
      "text/plain": [
       "     Length1  Length2  Length3   Height   Width\n",
       "44      20.5     22.0     24.3   6.6339  3.5478\n",
       "45      20.5     22.5     25.3   7.0334  3.8203\n",
       "118     36.6     39.0     41.3  12.4313  7.3514\n",
       "25      31.8     35.0     40.9  16.3600  6.0532\n",
       "31      35.0     38.5     44.0  18.0840  6.2920"
      ]
     },
     "execution_count": 3,
     "metadata": {},
     "output_type": "execute_result"
    }
   ],
   "source": [
    "# Just checking...\n",
    "training_data.head(5)"
   ]
  },
  {
   "cell_type": "code",
   "execution_count": 4,
   "metadata": {},
   "outputs": [
    {
     "data": {
      "text/plain": [
       "44     145.0\n",
       "45     160.0\n",
       "118    820.0\n",
       "25     725.0\n",
       "31     955.0\n",
       "Name: Weight, dtype: float64"
      ]
     },
     "execution_count": 4,
     "metadata": {},
     "output_type": "execute_result"
    }
   ],
   "source": [
    "training_labels.head(5)"
   ]
  },
  {
   "cell_type": "code",
   "execution_count": 5,
   "metadata": {},
   "outputs": [
    {
     "data": {
      "text/plain": [
       "LinearRegression()"
      ]
     },
     "execution_count": 5,
     "metadata": {},
     "output_type": "execute_result"
    }
   ],
   "source": [
    "# 4. Fitting the model\n",
    "model = LinearRegression()\n",
    "model.fit(training_data, training_labels)"
   ]
  },
  {
   "cell_type": "code",
   "execution_count": 6,
   "metadata": {},
   "outputs": [
    {
     "data": {
      "text/plain": [
       "0.8591332438493487"
      ]
     },
     "execution_count": 6,
     "metadata": {},
     "output_type": "execute_result"
    }
   ],
   "source": [
    "# 5. score the model\n",
    "model.score(test_data, test_labels)"
   ]
  },
  {
   "cell_type": "markdown",
   "metadata": {},
   "source": [
    "##### 5b What is this?\n",
    "\n",
    "This value is r^2 also called the \"coefficent of determination\" and it is a measure of your model's performance. Specifically it is the share of the variance captured by the model. It will always be between 0-1. A rule of thumb: better than .6 is not so bad.\n",
    "\n",
    "In this case it's saying the model captures 76% of the variance in fish weights. Another way to think about it is that our model can explain 89% of the contributing factors to a fish's weight **IN OUR TEST DATA**, and 11% of the factors **IN OUR TEST DATA** are not captured by the model. \n",
    "\n",
    "Be wary though... rerun your notebook and see that this value changes when we change the test_train_split. We'll introduce cross validation soon as a method for obtaining a more robust measure of this model's performance. But keep in mind all the metrics you can generate are still just **with respect to the data you have** and many models are quite sensitive to changes in the data or patterns that are not captured in our data but exist in truth. \n",
    "\n",
    "A couple other notes:\n",
    "\n",
    "* Most phenomona have some noise involved, even when you have quite a lot of features, so an r^2 of 1 or very close to 1 should be met with a lot of skepticism.\n",
    "    * Check for \"target leakage\" where the labels/targets are being included in your training data directly or indirectly.\n",
    "    * Ask yourself \"could this phenomenon really be perfectly predicted given this data?\"\n",
    "        * If that seems unbelievable, it probably is. Check your model and data!\n",
    "* Check for overfitting by scoring the model on the training data as well as the test data!\n",
    "    * If the values are similar, that's a good sign.\n",
    "    * If the values are highly divergent that's a bad sign.\n",
    "    * If the training score is high and the test score is low, that's overfitting specifically.\n"
   ]
  },
  {
   "cell_type": "code",
   "execution_count": 7,
   "metadata": {},
   "outputs": [
    {
     "data": {
      "text/plain": [
       "0.879695365802818"
      ]
     },
     "execution_count": 7,
     "metadata": {},
     "output_type": "execute_result"
    }
   ],
   "source": [
    "model.score(training_data, training_labels)"
   ]
  },
  {
   "cell_type": "markdown",
   "metadata": {},
   "source": [
    "**Looks like our test and train were similar, which is good!**"
   ]
  },
  {
   "cell_type": "code",
   "execution_count": 8,
   "metadata": {},
   "outputs": [
    {
     "name": "stdout",
     "output_type": "stream",
     "text": [
      "[ 55.15164326  -7.35978871 -24.03459691  23.33250419  36.29206492] -460.6446817522215 \n",
      "\n",
      "Length1*55.15 + Length2*-7.36 Length3*-24.03 Height*23.33 Width*36.29 + -460.64\n"
     ]
    }
   ],
   "source": [
    "# 6. Examine the coefficents and the intercept\n",
    "print(model.coef_, model.intercept_, '\\n')\n",
    "\n",
    "# 6b. The coefs are in the same order as the input lables in the dataframe so:\n",
    "# L1, L2, L3, H, W, meaning the formula could be expressed like this:\n",
    "formula = 'Length1*{:.2f} + Length2*{:.2f} Length3*{:.2f} Height*{:.2f} Width*{:.2f} + {:.2f}'.format(*model.coef_, model.intercept_)\n",
    "print(formula)"
   ]
  },
  {
   "cell_type": "markdown",
   "metadata": {},
   "source": [
    "## Notes:\n",
    "\n",
    "Do any seem especially large, or otherwise strange? **I say yes to both**\n",
    "\n",
    "* Length1 is about 3x larger than the next largest, and so dominates the other features.\n",
    "* Also, the negative values in L2 and L3 are a bit surprising if we think about what this model is doing...\n",
    "\n",
    "A simple \"expert system\" that performed this mapping would be completely additive, the formula would be something like:\n",
    "\n",
    "```\n",
    "estimated_volume = ((L1 + L2 + L3) / 3) * W * H * some_scalar_value\n",
    "estimated_weight = estimated_volumne * avg_fish_density\n",
    "```\n",
    "\n",
    "Maybe the fish density and the scalar would be specific to the fish species (which we left off this time) but seeing `-23 and -25` is strange given the actual phenomenon we're working with. Each unit of length in L2 and L3 **subtract** weight from the fish?\n",
    "\n",
    "**Dig Deeper, if this is indeed strange, can we explain why it's happening?**\n",
    "\n",
    "...\n",
    "\n",
    "...\n",
    "\n",
    "I suspect that these features are strongly correlated. Just like height and armspan are correlated, it stands to reason that bigger fish are bigger in multiple directions not just a single direction. This would certainly explain the values we see. \n",
    "\n",
    "**Dig Even Deeper: Lets test that hypothesis, it's possible to measure the featurewise correlation's in our data!**"
   ]
  },
  {
   "cell_type": "code",
   "execution_count": 9,
   "metadata": {},
   "outputs": [],
   "source": [
    "correlation_matrix = fish_dataset.drop(columns=['Species']).corr()"
   ]
  },
  {
   "cell_type": "code",
   "execution_count": 10,
   "metadata": {},
   "outputs": [
    {
     "name": "stderr",
     "output_type": "stream",
     "text": [
      "<ipython-input-10-a50d7d2aacc6>:6: UserWarning: FixedFormatter should only be used together with FixedLocator\n",
      "  ax.set_xticklabels(fish_dataset.columns)\n",
      "<ipython-input-10-a50d7d2aacc6>:7: UserWarning: FixedFormatter should only be used together with FixedLocator\n",
      "  ax.set_yticklabels(fish_dataset.columns)\n"
     ]
    },
    {
     "data": {
      "image/png": "[encoded data removed]",
      "text/plain": [
       "<Figure size 432x288 with 2 Axes>"
      ]
     },
     "metadata": {
      "needs_background": "light"
     },
     "output_type": "display_data"
    }
   ],
   "source": [
    "fig = plt.figure()\n",
    "ax = fig.add_subplot(111)\n",
    "cor_matrix_image = ax.matshow(correlation_matrix)\n",
    "fig.colorbar(cor_matrix_image)\n",
    "\n",
    "ax.set_xticklabels(fish_dataset.columns)\n",
    "ax.set_yticklabels(fish_dataset.columns)\n",
    "\n",
    "plt.tight_layout()\n",
    "plt.show()\n",
    "\n",
    "# These warnings are apparently a bug in this version of matplotlib?\n",
    "# ignore them.\n",
    "# https://github.com/pandas-dev/pandas/issues/35684"
   ]
  },
  {
   "cell_type": "markdown",
   "metadata": {},
   "source": [
    "**Now that's a lot of colinearity!**\n",
    "\n",
    "L1, L2, and L3 appear to have near perfect correlation, violating one of our assumptions! The other vaulues are also relatively well correlated, note that the heatmap values START at 0.65, whereas completely uncorrelated features would score 0.00.\n",
    "\n",
    "**Discuss... how could we address this?**\n",
    "\n",
    "...\n",
    "\n",
    "...\n",
    "\n",
    "...\n",
    "\n",
    "There are at least two reasonable things to do: \n",
    "\n",
    "* Feature selection: choose just a single value out of L1, L2, and L3 (the most strongly correlated variables)\n",
    "    * You might even consider removing more of these values since so many are so correlated.\n",
    "* Feature engineering: Combine some of the features into a single value.\n",
    "    * And drop the values used to create that new feature...\n",
    "    \n",
    "#### Lets do an example of that!"
   ]
  },
  {
   "cell_type": "code",
   "execution_count": 11,
   "metadata": {},
   "outputs": [
    {
     "data": {
      "text/html": [
       "<div>\n",
       "<style scoped>\n",
       "    .dataframe tbody tr th:only-of-type {\n",
       "        vertical-align: middle;\n",
       "    }\n",
       "\n",
       "    .dataframe tbody tr th {\n",
       "        vertical-align: top;\n",
       "    }\n",
       "\n",
       "    .dataframe thead th {\n",
       "        text-align: right;\n",
       "    }\n",
       "</style>\n",
       "<table border=\"1\" class=\"dataframe\">\n",
       "  <thead>\n",
       "    <tr style=\"text-align: right;\">\n",
       "      <th></th>\n",
       "      <th>Species</th>\n",
       "      <th>Weight</th>\n",
       "      <th>Length1</th>\n",
       "      <th>Height</th>\n",
       "      <th>Width</th>\n",
       "    </tr>\n",
       "  </thead>\n",
       "  <tbody>\n",
       "    <tr>\n",
       "      <th>0</th>\n",
       "      <td>Bream</td>\n",
       "      <td>242.0</td>\n",
       "      <td>23.2</td>\n",
       "      <td>11.5200</td>\n",
       "      <td>4.0200</td>\n",
       "    </tr>\n",
       "    <tr>\n",
       "      <th>1</th>\n",
       "      <td>Bream</td>\n",
       "      <td>290.0</td>\n",
       "      <td>24.0</td>\n",
       "      <td>12.4800</td>\n",
       "      <td>4.3056</td>\n",
       "    </tr>\n",
       "    <tr>\n",
       "      <th>2</th>\n",
       "      <td>Bream</td>\n",
       "      <td>340.0</td>\n",
       "      <td>23.9</td>\n",
       "      <td>12.3778</td>\n",
       "      <td>4.6961</td>\n",
       "    </tr>\n",
       "    <tr>\n",
       "      <th>3</th>\n",
       "      <td>Bream</td>\n",
       "      <td>363.0</td>\n",
       "      <td>26.3</td>\n",
       "      <td>12.7300</td>\n",
       "      <td>4.4555</td>\n",
       "    </tr>\n",
       "    <tr>\n",
       "      <th>4</th>\n",
       "      <td>Bream</td>\n",
       "      <td>430.0</td>\n",
       "      <td>26.5</td>\n",
       "      <td>12.4440</td>\n",
       "      <td>5.1340</td>\n",
       "    </tr>\n",
       "  </tbody>\n",
       "</table>\n",
       "</div>"
      ],
      "text/plain": [
       "  Species  Weight  Length1   Height   Width\n",
       "0   Bream   242.0     23.2  11.5200  4.0200\n",
       "1   Bream   290.0     24.0  12.4800  4.3056\n",
       "2   Bream   340.0     23.9  12.3778  4.6961\n",
       "3   Bream   363.0     26.3  12.7300  4.4555\n",
       "4   Bream   430.0     26.5  12.4440  5.1340"
      ]
     },
     "execution_count": 11,
     "metadata": {},
     "output_type": "execute_result"
    }
   ],
   "source": [
    "# Drop L2 and L3 and just use L1.\n",
    "selected_dataset = fish_dataset.drop(columns=['Length2', 'Length3'])\n",
    "\n",
    "selected_dataset.head(5)"
   ]
  },
  {
   "cell_type": "code",
   "execution_count": 12,
   "metadata": {},
   "outputs": [
    {
     "data": {
      "text/html": [
       "<div>\n",
       "<style scoped>\n",
       "    .dataframe tbody tr th:only-of-type {\n",
       "        vertical-align: middle;\n",
       "    }\n",
       "\n",
       "    .dataframe tbody tr th {\n",
       "        vertical-align: top;\n",
       "    }\n",
       "\n",
       "    .dataframe thead th {\n",
       "        text-align: right;\n",
       "    }\n",
       "</style>\n",
       "<table border=\"1\" class=\"dataframe\">\n",
       "  <thead>\n",
       "    <tr style=\"text-align: right;\">\n",
       "      <th></th>\n",
       "      <th>Species</th>\n",
       "      <th>Weight</th>\n",
       "      <th>Height</th>\n",
       "      <th>Width</th>\n",
       "      <th>AvgLength</th>\n",
       "    </tr>\n",
       "  </thead>\n",
       "  <tbody>\n",
       "    <tr>\n",
       "      <th>0</th>\n",
       "      <td>Bream</td>\n",
       "      <td>242.0</td>\n",
       "      <td>11.5200</td>\n",
       "      <td>4.0200</td>\n",
       "      <td>26.200000</td>\n",
       "    </tr>\n",
       "    <tr>\n",
       "      <th>1</th>\n",
       "      <td>Bream</td>\n",
       "      <td>290.0</td>\n",
       "      <td>12.4800</td>\n",
       "      <td>4.3056</td>\n",
       "      <td>27.166667</td>\n",
       "    </tr>\n",
       "    <tr>\n",
       "      <th>2</th>\n",
       "      <td>Bream</td>\n",
       "      <td>340.0</td>\n",
       "      <td>12.3778</td>\n",
       "      <td>4.6961</td>\n",
       "      <td>27.166667</td>\n",
       "    </tr>\n",
       "    <tr>\n",
       "      <th>3</th>\n",
       "      <td>Bream</td>\n",
       "      <td>363.0</td>\n",
       "      <td>12.7300</td>\n",
       "      <td>4.4555</td>\n",
       "      <td>29.600000</td>\n",
       "    </tr>\n",
       "    <tr>\n",
       "      <th>4</th>\n",
       "      <td>Bream</td>\n",
       "      <td>430.0</td>\n",
       "      <td>12.4440</td>\n",
       "      <td>5.1340</td>\n",
       "      <td>29.833333</td>\n",
       "    </tr>\n",
       "  </tbody>\n",
       "</table>\n",
       "</div>"
      ],
      "text/plain": [
       "  Species  Weight   Height   Width  AvgLength\n",
       "0   Bream   242.0  11.5200  4.0200  26.200000\n",
       "1   Bream   290.0  12.4800  4.3056  27.166667\n",
       "2   Bream   340.0  12.3778  4.6961  27.166667\n",
       "3   Bream   363.0  12.7300  4.4555  29.600000\n",
       "4   Bream   430.0  12.4440  5.1340  29.833333"
      ]
     },
     "execution_count": 12,
     "metadata": {},
     "output_type": "execute_result"
    }
   ],
   "source": [
    "# Combine L1, L2, L3 into a single value and use it instead of the original 3\n",
    "engineered_dataset = fish_dataset.copy()\n",
    "engineered_dataset['AvgLength'] = (engineered_dataset['Length1'] + engineered_dataset['Length2'] + engineered_dataset['Length3']) / 3\n",
    "engineered_dataset = engineered_dataset.drop(columns=['Length1', 'Length2', 'Length3'])\n",
    "\n",
    "engineered_dataset.head(5)"
   ]
  },
  {
   "cell_type": "code",
   "execution_count": 13,
   "metadata": {},
   "outputs": [
    {
     "data": {
      "text/html": [
       "<div>\n",
       "<style scoped>\n",
       "    .dataframe tbody tr th:only-of-type {\n",
       "        vertical-align: middle;\n",
       "    }\n",
       "\n",
       "    .dataframe tbody tr th {\n",
       "        vertical-align: top;\n",
       "    }\n",
       "\n",
       "    .dataframe thead th {\n",
       "        text-align: right;\n",
       "    }\n",
       "</style>\n",
       "<table border=\"1\" class=\"dataframe\">\n",
       "  <thead>\n",
       "    <tr style=\"text-align: right;\">\n",
       "      <th></th>\n",
       "      <th>Species</th>\n",
       "      <th>Weight</th>\n",
       "      <th>EstimatedVolume</th>\n",
       "    </tr>\n",
       "  </thead>\n",
       "  <tbody>\n",
       "    <tr>\n",
       "      <th>0</th>\n",
       "      <td>Bream</td>\n",
       "      <td>242.0</td>\n",
       "      <td>1213.332480</td>\n",
       "    </tr>\n",
       "    <tr>\n",
       "      <th>1</th>\n",
       "      <td>Bream</td>\n",
       "      <td>290.0</td>\n",
       "      <td>1459.770624</td>\n",
       "    </tr>\n",
       "    <tr>\n",
       "      <th>2</th>\n",
       "      <td>Bream</td>\n",
       "      <td>340.0</td>\n",
       "      <td>1579.127335</td>\n",
       "    </tr>\n",
       "    <tr>\n",
       "      <th>3</th>\n",
       "      <td>Bream</td>\n",
       "      <td>363.0</td>\n",
       "      <td>1678.868044</td>\n",
       "    </tr>\n",
       "    <tr>\n",
       "      <th>4</th>\n",
       "      <td>Bream</td>\n",
       "      <td>430.0</td>\n",
       "      <td>1905.976964</td>\n",
       "    </tr>\n",
       "  </tbody>\n",
       "</table>\n",
       "</div>"
      ],
      "text/plain": [
       "  Species  Weight  EstimatedVolume\n",
       "0   Bream   242.0      1213.332480\n",
       "1   Bream   290.0      1459.770624\n",
       "2   Bream   340.0      1579.127335\n",
       "3   Bream   363.0      1678.868044\n",
       "4   Bream   430.0      1905.976964"
      ]
     },
     "execution_count": 13,
     "metadata": {},
     "output_type": "execute_result"
    }
   ],
   "source": [
    "# Combine everything into a single value :O\n",
    "heavily_engineered_dataset = fish_dataset.copy()\n",
    "heavily_engineered_dataset['EstimatedVolume'] = (\n",
    "    ((heavily_engineered_dataset['Length1'] + heavily_engineered_dataset['Length2'] + heavily_engineered_dataset['Length3']) / 3) *\n",
    "    heavily_engineered_dataset['Width'] * heavily_engineered_dataset['Height']\n",
    ")\n",
    "\n",
    "heavily_engineered_dataset = heavily_engineered_dataset.drop(\n",
    "    columns = ['Length1', 'Length2', 'Length3', 'Width', 'Height']\n",
    ")\n",
    "\n",
    "heavily_engineered_dataset.head(5)"
   ]
  },
  {
   "cell_type": "code",
   "execution_count": 14,
   "metadata": {},
   "outputs": [
    {
     "name": "stdout",
     "output_type": "stream",
     "text": [
      "\n",
      "=======\n",
      "\n",
      "0.8670473585706676\n",
      "Index(['Length1', 'Height', 'Width'], dtype='object')\n",
      "[22.91507745 14.40030922 43.6486068 ] -521.0760008775306 \n",
      "\n",
      "\n",
      "=======\n",
      "\n",
      "0.8727898247677538\n",
      "Index(['Height', 'Width', 'AvgLength'], dtype='object')\n",
      "[12.06943277 54.19001518 19.68961466] -517.5786081873105 \n",
      "\n",
      "\n",
      "=======\n",
      "\n",
      "0.8686416592660221\n",
      "Index(['EstimatedVolume'], dtype='object')\n",
      "[0.24975575] 12.158440862298505 \n",
      "\n"
     ]
    }
   ],
   "source": [
    "# Now lets just reperform the above for each dataset\n",
    "for dataset in [selected_dataset, engineered_dataset, heavily_engineered_dataset]:\n",
    "    labels = dataset['Weight']\n",
    "    features = dataset.drop(columns=['Species', 'Weight'])\n",
    "\n",
    "    training_data, test_data, training_labels, test_labels = train_test_split(features, labels, test_size=0.2)\n",
    "\n",
    "    model.fit(training_data, training_labels)\n",
    "    r2 = model.score(test_data, test_labels)\n",
    "    \n",
    "    print('\\n=======\\n')\n",
    "    print(r2)\n",
    "    print(training_data.columns)\n",
    "    print(model.coef_, model.intercept_, '\\n')"
   ]
  },
  {
   "cell_type": "markdown",
   "metadata": {},
   "source": [
    "## Note:\n",
    "\n",
    "We can see that the feature selection and engineering processes don't have significantly different performance... But we don't have to struggle to intepret the coef values with weird negative numbers. In fact, with the heavily engineered dataset we can essentially think of the coef as the model's prediction for \"avg fish density.\" \n",
    "\n",
    "### Okay finally the last part:\n",
    "\n",
    "Compute and plot the residuals (error) of the validation scores.\n",
    "\n",
    "(Note that I'm computing the residuals with respect to the model trained on heavily_engineered_dataset but it works the same with all these models.)"
   ]
  },
  {
   "cell_type": "code",
   "execution_count": 15,
   "metadata": {},
   "outputs": [
    {
     "data": {
      "text/plain": [
       "<matplotlib.collections.LineCollection at 0x7fdab1508850>"
      ]
     },
     "execution_count": 15,
     "metadata": {},
     "output_type": "execute_result"
    },
    {
     "data": {
      "image/png": "[encoded data removed]",
      "text/plain": [
       "<Figure size 432x288 with 1 Axes>"
      ]
     },
     "metadata": {
      "needs_background": "light"
     },
     "output_type": "display_data"
    }
   ],
   "source": [
    "predictions = model.predict(test_data)\n",
    "residuals = (test_labels - predictions)\n",
    "\n",
    "plt.scatter(np.linspace(0, len(residuals), len(residuals)), residuals)\n",
    "plt.hlines(0, 0, len(residuals), color='r')"
   ]
  },
  {
   "cell_type": "markdown",
   "metadata": {},
   "source": [
    "## Note\n",
    "\n",
    "I don't see evidence of heteroscedasticity or autocorrelation. But I do see evidence of a biased error (meaning the conditional mean isn't zero) — this chart looks like our estimator is biased to *underestimate* the fish's weight. We can easily double check that:"
   ]
  },
  {
   "cell_type": "code",
   "execution_count": 16,
   "metadata": {},
   "outputs": [
    {
     "name": "stdout",
     "output_type": "stream",
     "text": [
      "-11.565812931996936\n"
     ]
    }
   ],
   "source": [
    "residual_mean = np.mean(residuals)\n",
    "print(residual_mean)"
   ]
  },
  {
   "cell_type": "markdown",
   "metadata": {},
   "source": [
    "**And indeed, the conditional mean on test data is negative.**\n",
    "\n",
    "This isn't a deal breaker... but it is something to be aware of and could be a starting point for further exploration: Why is our fish weight model consistently underpredicting fish weight?"
   ]
  },
  {
   "cell_type": "code",
   "execution_count": null,
   "metadata": {},
   "outputs": [],
   "source": []
  }
 ],
 "metadata": {
  "kernelspec": {
   "display_name": "Python 3",
   "language": "python",
   "name": "python3"
  },
  "language_info": {
   "codemirror_mode": {
    "name": "ipython",
    "version": 3
   },
   "file_extension": ".py",
   "mimetype": "text/x-python",
   "name": "python",
   "nbconvert_exporter": "python",
   "pygments_lexer": "ipython3",
   "version": "3.7.4"
  }
 },
 "nbformat": 4,
 "nbformat_minor": 4
}
